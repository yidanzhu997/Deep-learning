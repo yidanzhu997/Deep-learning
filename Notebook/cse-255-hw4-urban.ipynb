{
 "cells": [
  {
   "cell_type": "markdown",
   "id": "0eb42c4c",
   "metadata": {
    "papermill": {
     "duration": 0.006551,
     "end_time": "2022-06-08T01:53:10.776781",
     "exception": false,
     "start_time": "2022-06-08T01:53:10.770230",
     "status": "completed"
    },
    "tags": []
   },
   "source": [
    "## Reading table"
   ]
  },
  {
   "cell_type": "code",
   "execution_count": 1,
   "id": "ac49b3aa",
   "metadata": {
    "_cell_guid": "b1076dfc-b9ad-4769-8c92-a6c4dae69d19",
    "_uuid": "8f2839f25d086af736a60e9eeb907d3b93b6e0e5",
    "execution": {
     "iopub.execute_input": "2022-06-08T01:53:10.790220Z",
     "iopub.status.busy": "2022-06-08T01:53:10.789533Z",
     "iopub.status.idle": "2022-06-08T01:53:12.665412Z",
     "shell.execute_reply": "2022-06-08T01:53:12.664660Z"
    },
    "papermill": {
     "duration": 1.884863,
     "end_time": "2022-06-08T01:53:12.667478",
     "exception": false,
     "start_time": "2022-06-08T01:53:10.782615",
     "status": "completed"
    },
    "tags": []
   },
   "outputs": [
    {
     "data": {
      "text/html": [
       "<div>\n",
       "<style scoped>\n",
       "    .dataframe tbody tr th:only-of-type {\n",
       "        vertical-align: middle;\n",
       "    }\n",
       "\n",
       "    .dataframe tbody tr th {\n",
       "        vertical-align: top;\n",
       "    }\n",
       "\n",
       "    .dataframe thead th {\n",
       "        text-align: right;\n",
       "    }\n",
       "</style>\n",
       "<table border=\"1\" class=\"dataframe\">\n",
       "  <thead>\n",
       "    <tr style=\"text-align: right;\">\n",
       "      <th></th>\n",
       "      <th>filename</th>\n",
       "      <th>country</th>\n",
       "      <th>wealthpooled</th>\n",
       "      <th>urban</th>\n",
       "      <th>label</th>\n",
       "      <th>nl_mean</th>\n",
       "    </tr>\n",
       "  </thead>\n",
       "  <tbody>\n",
       "    <tr>\n",
       "      <th>3</th>\n",
       "      <td>image390.npz</td>\n",
       "      <td>6</td>\n",
       "      <td>1.056769</td>\n",
       "      <td>True</td>\n",
       "      <td>0</td>\n",
       "      <td>15.228898</td>\n",
       "    </tr>\n",
       "    <tr>\n",
       "      <th>4</th>\n",
       "      <td>image7980.npz</td>\n",
       "      <td>6</td>\n",
       "      <td>1.454064</td>\n",
       "      <td>True</td>\n",
       "      <td>1</td>\n",
       "      <td>11.082343</td>\n",
       "    </tr>\n",
       "    <tr>\n",
       "      <th>5</th>\n",
       "      <td>image13397.npz</td>\n",
       "      <td>6</td>\n",
       "      <td>1.708446</td>\n",
       "      <td>True</td>\n",
       "      <td>1</td>\n",
       "      <td>12.646744</td>\n",
       "    </tr>\n",
       "    <tr>\n",
       "      <th>6</th>\n",
       "      <td>image814.npz</td>\n",
       "      <td>6</td>\n",
       "      <td>1.701110</td>\n",
       "      <td>True</td>\n",
       "      <td>1</td>\n",
       "      <td>5.055367</td>\n",
       "    </tr>\n",
       "    <tr>\n",
       "      <th>7</th>\n",
       "      <td>image19332.npz</td>\n",
       "      <td>6</td>\n",
       "      <td>1.547713</td>\n",
       "      <td>True</td>\n",
       "      <td>1</td>\n",
       "      <td>12.907397</td>\n",
       "    </tr>\n",
       "    <tr>\n",
       "      <th>...</th>\n",
       "      <td>...</td>\n",
       "      <td>...</td>\n",
       "      <td>...</td>\n",
       "      <td>...</td>\n",
       "      <td>...</td>\n",
       "      <td>...</td>\n",
       "    </tr>\n",
       "    <tr>\n",
       "      <th>19654</th>\n",
       "      <td>image10600.npz</td>\n",
       "      <td>8</td>\n",
       "      <td>1.475595</td>\n",
       "      <td>True</td>\n",
       "      <td>1</td>\n",
       "      <td>0.046502</td>\n",
       "    </tr>\n",
       "    <tr>\n",
       "      <th>19655</th>\n",
       "      <td>image16464.npz</td>\n",
       "      <td>8</td>\n",
       "      <td>1.344147</td>\n",
       "      <td>True</td>\n",
       "      <td>1</td>\n",
       "      <td>0.006605</td>\n",
       "    </tr>\n",
       "    <tr>\n",
       "      <th>19658</th>\n",
       "      <td>image7271.npz</td>\n",
       "      <td>8</td>\n",
       "      <td>1.710206</td>\n",
       "      <td>True</td>\n",
       "      <td>1</td>\n",
       "      <td>-0.191962</td>\n",
       "    </tr>\n",
       "    <tr>\n",
       "      <th>19665</th>\n",
       "      <td>image4238.npz</td>\n",
       "      <td>8</td>\n",
       "      <td>1.268232</td>\n",
       "      <td>True</td>\n",
       "      <td>0</td>\n",
       "      <td>0.895127</td>\n",
       "    </tr>\n",
       "    <tr>\n",
       "      <th>19668</th>\n",
       "      <td>image7340.npz</td>\n",
       "      <td>8</td>\n",
       "      <td>1.880099</td>\n",
       "      <td>True</td>\n",
       "      <td>1</td>\n",
       "      <td>0.844067</td>\n",
       "    </tr>\n",
       "  </tbody>\n",
       "</table>\n",
       "<p>4129 rows × 6 columns</p>\n",
       "</div>"
      ],
      "text/plain": [
       "             filename  country  wealthpooled  urban  label    nl_mean\n",
       "3        image390.npz        6      1.056769   True      0  15.228898\n",
       "4       image7980.npz        6      1.454064   True      1  11.082343\n",
       "5      image13397.npz        6      1.708446   True      1  12.646744\n",
       "6        image814.npz        6      1.701110   True      1   5.055367\n",
       "7      image19332.npz        6      1.547713   True      1  12.907397\n",
       "...               ...      ...           ...    ...    ...        ...\n",
       "19654  image10600.npz        8      1.475595   True      1   0.046502\n",
       "19655  image16464.npz        8      1.344147   True      1   0.006605\n",
       "19658   image7271.npz        8      1.710206   True      1  -0.191962\n",
       "19665   image4238.npz        8      1.268232   True      0   0.895127\n",
       "19668   image7340.npz        8      1.880099   True      1   0.844067\n",
       "\n",
       "[4129 rows x 6 columns]"
      ]
     },
     "execution_count": 1,
     "metadata": {},
     "output_type": "execute_result"
    }
   ],
   "source": [
    "import csv\n",
    "import os\n",
    "import numpy as np\n",
    "from PIL import Image\n",
    "import torch\n",
    "import pandas as pd\n",
    "\n",
    "train_csv_path = '/kaggle/input/cse-255-hw4-table/train.csv'\n",
    "image_path = '/kaggle/input/cse-255-hw4-image/anon_images/'\n",
    "\n",
    "train_csv_df = pd.read_csv(train_csv_path, index_col=0)\n",
    "train_csv_df_urban = train_csv_df.loc[train_csv_df['urban']==True]\n",
    "train_csv_df_rural = train_csv_df.loc[train_csv_df['urban']==False]\n",
    "train_csv_df_urban"
   ]
  },
  {
   "cell_type": "code",
   "execution_count": 2,
   "id": "c2807a75",
   "metadata": {
    "execution": {
     "iopub.execute_input": "2022-06-08T01:53:12.681286Z",
     "iopub.status.busy": "2022-06-08T01:53:12.681013Z",
     "iopub.status.idle": "2022-06-08T01:53:13.434303Z",
     "shell.execute_reply": "2022-06-08T01:53:13.433047Z"
    },
    "papermill": {
     "duration": 0.764617,
     "end_time": "2022-06-08T01:53:13.438606",
     "exception": false,
     "start_time": "2022-06-08T01:53:12.673989",
     "status": "completed"
    },
    "tags": []
   },
   "outputs": [],
   "source": [
    "from sklearn.model_selection import train_test_split\n",
    "train_urban_indices, valid_urban_indices = train_test_split(range(len(train_csv_df_urban)), train_size=0.9)"
   ]
  },
  {
   "cell_type": "code",
   "execution_count": 3,
   "id": "70279cf4",
   "metadata": {
    "execution": {
     "iopub.execute_input": "2022-06-08T01:53:13.463043Z",
     "iopub.status.busy": "2022-06-08T01:53:13.462514Z",
     "iopub.status.idle": "2022-06-08T01:53:13.472019Z",
     "shell.execute_reply": "2022-06-08T01:53:13.470609Z"
    },
    "papermill": {
     "duration": 0.023721,
     "end_time": "2022-06-08T01:53:13.474868",
     "exception": false,
     "start_time": "2022-06-08T01:53:13.451147",
     "status": "completed"
    },
    "tags": []
   },
   "outputs": [],
   "source": [
    "training_set = train_csv_df_urban.iloc[train_urban_indices]\n",
    "validation_set = train_csv_df_urban.iloc[valid_urban_indices]"
   ]
  },
  {
   "cell_type": "markdown",
   "id": "159e4809",
   "metadata": {
    "papermill": {
     "duration": 0.009486,
     "end_time": "2022-06-08T01:53:13.494248",
     "exception": false,
     "start_time": "2022-06-08T01:53:13.484762",
     "status": "completed"
    },
    "tags": []
   },
   "source": [
    "## Reading image"
   ]
  },
  {
   "cell_type": "code",
   "execution_count": 4,
   "id": "cfc27eb9",
   "metadata": {
    "execution": {
     "iopub.execute_input": "2022-06-08T01:53:13.516637Z",
     "iopub.status.busy": "2022-06-08T01:53:13.516118Z",
     "iopub.status.idle": "2022-06-08T01:53:19.605250Z",
     "shell.execute_reply": "2022-06-08T01:53:19.604401Z"
    },
    "papermill": {
     "duration": 6.102453,
     "end_time": "2022-06-08T01:53:19.607337",
     "exception": false,
     "start_time": "2022-06-08T01:53:13.504884",
     "status": "completed"
    },
    "tags": []
   },
   "outputs": [],
   "source": [
    "import os\n",
    "import random\n",
    "import numpy as np\n",
    "import pandas as pd\n",
    "import torch\n",
    "from tqdm import tqdm\n",
    "from torch.utils.data import Dataset, DataLoader\n",
    "import pytorch_lightning as pl\n",
    "from sklearn.model_selection import train_test_split\n",
    "from PIL import Image\n",
    "# PIL_image = Image.fromarray(ndarray_image)\n",
    "\n",
    "class WildsDataset(Dataset):    \n",
    "    def __init__(self, csv_df, mode = \"train\", transform=None):\n",
    "        self.mode = mode\n",
    "        self.transform = transform\n",
    "        self.data_list = []\n",
    "        self.label = []\n",
    "        \n",
    "        for index, row in csv_df.iterrows():\n",
    "            self.data_list.append(image_path+row['filename'])\n",
    "            if self.mode != 'test':\n",
    "                self.label.append(row['label'])\n",
    "        \n",
    "    def __len__(self):\n",
    "        return len(self.data_list)\n",
    "    \n",
    "    def __getitem__(self, idx):\n",
    "        if torch.is_tensor(idx):\n",
    "            idx = idx.tolist()\n",
    "            \n",
    "        image = np.load(self.data_list[idx])\n",
    "        image = image.f.x\n",
    "        image = torch.from_numpy(image)\n",
    "#         print(type(image))\n",
    "#         print(image)\n",
    "        if self.transform is not None:\n",
    "            image = self.transform(image)\n",
    "        if self.mode == 'test': \n",
    "            return image\n",
    "        label = torch.tensor(int(self.label[idx]))\n",
    "            \n",
    "        return image, label\n",
    "\n"
   ]
  },
  {
   "cell_type": "markdown",
   "id": "514d2d11",
   "metadata": {
    "papermill": {
     "duration": 0.00579,
     "end_time": "2022-06-08T01:53:19.619328",
     "exception": false,
     "start_time": "2022-06-08T01:53:19.613538",
     "status": "completed"
    },
    "tags": []
   },
   "source": [
    "## Define Transform"
   ]
  },
  {
   "cell_type": "code",
   "execution_count": 5,
   "id": "d0d670fa",
   "metadata": {
    "execution": {
     "iopub.execute_input": "2022-06-08T01:53:19.633250Z",
     "iopub.status.busy": "2022-06-08T01:53:19.632121Z",
     "iopub.status.idle": "2022-06-08T01:53:19.640847Z",
     "shell.execute_reply": "2022-06-08T01:53:19.640188Z"
    },
    "papermill": {
     "duration": 0.017452,
     "end_time": "2022-06-08T01:53:19.642495",
     "exception": false,
     "start_time": "2022-06-08T01:53:19.625043",
     "status": "completed"
    },
    "tags": []
   },
   "outputs": [],
   "source": [
    "import torchvision.transforms.functional as TF\n",
    "import random\n",
    "\n",
    "class TrainTransform:\n",
    "    \"\"\"Rotate by one of the given angles.\"\"\"\n",
    "\n",
    "    def __init__(self):\n",
    "        self.angles = [-270, -180, -90, 0, 90, 180, 270]\n",
    "        self.maxsize = [i for i in range(256,272)]\n",
    "        self.boolean = [True, False]\n",
    "\n",
    "    def __call__(self, x):\n",
    "        angle = random.choice(self.angles)\n",
    "        size = random.choice(self.maxsize)\n",
    "        image = x\n",
    "        image = TF.rotate(image, angle) #Rotation \n",
    "        image = TF.resize(image,size) #Resize\n",
    "        image = TF.center_crop(image, 224) #Center Crop\n",
    "        if random.choice(self.boolean):\n",
    "            image = TF.vflip(image)\n",
    "        if random.choice(self.boolean):\n",
    "            image = TF.hflip(image)\n",
    "#         image = TF.normalize(image, 0.5, 0.5)\n",
    "        return image\n",
    "    "
   ]
  },
  {
   "cell_type": "code",
   "execution_count": 6,
   "id": "5c738ea2",
   "metadata": {
    "execution": {
     "iopub.execute_input": "2022-06-08T01:53:19.655696Z",
     "iopub.status.busy": "2022-06-08T01:53:19.654880Z",
     "iopub.status.idle": "2022-06-08T01:53:19.852397Z",
     "shell.execute_reply": "2022-06-08T01:53:19.851661Z"
    },
    "papermill": {
     "duration": 0.206117,
     "end_time": "2022-06-08T01:53:19.854246",
     "exception": false,
     "start_time": "2022-06-08T01:53:19.648129",
     "status": "completed"
    },
    "tags": []
   },
   "outputs": [],
   "source": [
    "dataset_train = WildsDataset(training_set, mode='train', transform = TrainTransform())\n",
    "dataset_val = WildsDataset(validation_set, mode='val')"
   ]
  },
  {
   "cell_type": "code",
   "execution_count": 7,
   "id": "2b6fb266",
   "metadata": {
    "execution": {
     "iopub.execute_input": "2022-06-08T01:53:19.867339Z",
     "iopub.status.busy": "2022-06-08T01:53:19.867061Z",
     "iopub.status.idle": "2022-06-08T01:53:19.871750Z",
     "shell.execute_reply": "2022-06-08T01:53:19.870915Z"
    },
    "papermill": {
     "duration": 0.013216,
     "end_time": "2022-06-08T01:53:19.873664",
     "exception": false,
     "start_time": "2022-06-08T01:53:19.860448",
     "status": "completed"
    },
    "tags": []
   },
   "outputs": [],
   "source": [
    "from torch.utils.data import DataLoader\n",
    "\n",
    "train_loader = DataLoader(dataset_train, batch_size=128, shuffle=True)\n",
    "val_loader = DataLoader(dataset_val, batch_size=128, shuffle=False)"
   ]
  },
  {
   "cell_type": "markdown",
   "id": "82147bca",
   "metadata": {
    "papermill": {
     "duration": 0.005424,
     "end_time": "2022-06-08T01:53:19.884855",
     "exception": false,
     "start_time": "2022-06-08T01:53:19.879431",
     "status": "completed"
    },
    "tags": []
   },
   "source": [
    "## Define Model"
   ]
  },
  {
   "cell_type": "code",
   "execution_count": 8,
   "id": "4ff81fdd",
   "metadata": {
    "execution": {
     "iopub.execute_input": "2022-06-08T01:53:19.897619Z",
     "iopub.status.busy": "2022-06-08T01:53:19.897246Z",
     "iopub.status.idle": "2022-06-08T01:53:19.906775Z",
     "shell.execute_reply": "2022-06-08T01:53:19.906083Z"
    },
    "papermill": {
     "duration": 0.017833,
     "end_time": "2022-06-08T01:53:19.908449",
     "exception": false,
     "start_time": "2022-06-08T01:53:19.890616",
     "status": "completed"
    },
    "tags": []
   },
   "outputs": [],
   "source": [
    "import torch\n",
    "import torch.nn as nn\n",
    "import torch.nn.functional as F\n",
    "import torch.optim as optim\n",
    "from torch.utils.data import DataLoader, Dataset\n",
    "from torch.utils.data import RandomSampler\n",
    "from torch.utils.data import TensorDataset\n",
    "from torchvision.utils import make_grid\n",
    "import torchvision.models as models\n",
    "\n",
    "class Net(nn.Module):\n",
    "    def __init__(self):\n",
    "        super().__init__()\n",
    "\n",
    "        model_ft = models.resnet34(pretrained=True)\n",
    "        #model_ft.aux_logits = False\n",
    "        model_ft.conv1 = nn.Conv2d(8, 64, kernel_size=7, stride=2,padding=3,bias=False)\n",
    "        num_ftrs = model_ft.fc.in_features\n",
    "        model_ft.fc = nn.Linear(num_ftrs, 128)\n",
    "        \n",
    "        self.pretrain_model = model_ft \n",
    "        self.category = nn.Sequential(\n",
    "            nn.Linear(128,32),\n",
    "            nn.Dropout(0.5),\n",
    "            nn.Linear(32,8),\n",
    "            nn.Dropout(0.5),\n",
    "            nn.Linear(8,2)\n",
    "        )\n",
    "    def forward(self, x):\n",
    "        x = self.pretrain_model(x)\n",
    "        category = self.category(x)\n",
    "        \n",
    "        return category"
   ]
  },
  {
   "cell_type": "code",
   "execution_count": 9,
   "id": "f44fef67",
   "metadata": {
    "execution": {
     "iopub.execute_input": "2022-06-08T01:53:19.921447Z",
     "iopub.status.busy": "2022-06-08T01:53:19.921163Z",
     "iopub.status.idle": "2022-06-08T01:53:26.004531Z",
     "shell.execute_reply": "2022-06-08T01:53:26.003702Z"
    },
    "papermill": {
     "duration": 6.092099,
     "end_time": "2022-06-08T01:53:26.006647",
     "exception": false,
     "start_time": "2022-06-08T01:53:19.914548",
     "status": "completed"
    },
    "tags": []
   },
   "outputs": [
    {
     "name": "stderr",
     "output_type": "stream",
     "text": [
      "Downloading: \"https://download.pytorch.org/models/resnet34-b627a593.pth\" to /root/.cache/torch/hub/checkpoints/resnet34-b627a593.pth\n"
     ]
    },
    {
     "data": {
      "application/vnd.jupyter.widget-view+json": {
       "model_id": "7cf12b3999f046b49b165b19c47deb6a",
       "version_major": 2,
       "version_minor": 0
      },
      "text/plain": [
       "  0%|          | 0.00/83.3M [00:00<?, ?B/s]"
      ]
     },
     "metadata": {},
     "output_type": "display_data"
    }
   ],
   "source": [
    "model = Net()\n",
    "model = model.cuda()"
   ]
  },
  {
   "cell_type": "markdown",
   "id": "a9067f7a",
   "metadata": {
    "papermill": {
     "duration": 0.006288,
     "end_time": "2022-06-08T01:53:26.019305",
     "exception": false,
     "start_time": "2022-06-08T01:53:26.013017",
     "status": "completed"
    },
    "tags": []
   },
   "source": [
    "## Freeze layers for fine tune"
   ]
  },
  {
   "cell_type": "code",
   "execution_count": 10,
   "id": "5ffbe084",
   "metadata": {
    "execution": {
     "iopub.execute_input": "2022-06-08T01:53:26.033092Z",
     "iopub.status.busy": "2022-06-08T01:53:26.032374Z",
     "iopub.status.idle": "2022-06-08T01:53:26.036363Z",
     "shell.execute_reply": "2022-06-08T01:53:26.035435Z"
    },
    "papermill": {
     "duration": 0.012613,
     "end_time": "2022-06-08T01:53:26.038190",
     "exception": false,
     "start_time": "2022-06-08T01:53:26.025577",
     "status": "completed"
    },
    "tags": []
   },
   "outputs": [],
   "source": [
    "# i = 0\n",
    "# for param in model.parameters():\n",
    "#     if i<46:\n",
    "#         param.requires_grad = False\n",
    "#     i += 1"
   ]
  },
  {
   "cell_type": "code",
   "execution_count": 11,
   "id": "f1f687c1",
   "metadata": {
    "execution": {
     "iopub.execute_input": "2022-06-08T01:53:26.050963Z",
     "iopub.status.busy": "2022-06-08T01:53:26.050687Z",
     "iopub.status.idle": "2022-06-08T01:53:26.053961Z",
     "shell.execute_reply": "2022-06-08T01:53:26.053153Z"
    },
    "papermill": {
     "duration": 0.011689,
     "end_time": "2022-06-08T01:53:26.055828",
     "exception": false,
     "start_time": "2022-06-08T01:53:26.044139",
     "status": "completed"
    },
    "tags": []
   },
   "outputs": [],
   "source": [
    "# for name,param in model.named_parameters():\n",
    "#     if param.requires_grad == True:\n",
    "#         print(\"\\t\",name)"
   ]
  },
  {
   "cell_type": "markdown",
   "id": "02309b48",
   "metadata": {
    "papermill": {
     "duration": 0.005601,
     "end_time": "2022-06-08T01:53:26.067510",
     "exception": false,
     "start_time": "2022-06-08T01:53:26.061909",
     "status": "completed"
    },
    "tags": []
   },
   "source": [
    "## Criterion and Optimizer"
   ]
  },
  {
   "cell_type": "code",
   "execution_count": 12,
   "id": "c61ecdec",
   "metadata": {
    "execution": {
     "iopub.execute_input": "2022-06-08T01:53:26.080733Z",
     "iopub.status.busy": "2022-06-08T01:53:26.080467Z",
     "iopub.status.idle": "2022-06-08T01:53:26.085953Z",
     "shell.execute_reply": "2022-06-08T01:53:26.085247Z"
    },
    "papermill": {
     "duration": 0.014175,
     "end_time": "2022-06-08T01:53:26.087637",
     "exception": false,
     "start_time": "2022-06-08T01:53:26.073462",
     "status": "completed"
    },
    "tags": []
   },
   "outputs": [],
   "source": [
    "import torch.nn as nn\n",
    "import torch.optim as optim\n",
    "\n",
    "criterion = nn.CrossEntropyLoss()\n",
    "optimizer = torch.optim.SGD(params=model.parameters(), lr=0.01, momentum=0.9) # throw param into optimizer some_optimier(param, lr=...)\n",
    "# optimizer = torch.optim.Adam(params = model.parameters(), lr=1e-03, betas=(0.9, 0.999), eps=1e-08, weight_decay=0.01, amsgrad=False)\n",
    "#optimizer = torch.optim.RMSprop(params = model.parameters(), lr=1e-02, momentum=0.9, weight_decay=0.01)\n",
    "# optimizer = torch.optim.AdamW(params = model.parameters(), lr=1e-02, betas=(0.9, 0.999), eps=1e-08, weight_decay=0.01, amsgrad=False)\n",
    "criterion = criterion.cuda()"
   ]
  },
  {
   "cell_type": "markdown",
   "id": "8638abe6",
   "metadata": {
    "papermill": {
     "duration": 0.005818,
     "end_time": "2022-06-08T01:53:26.099341",
     "exception": false,
     "start_time": "2022-06-08T01:53:26.093523",
     "status": "completed"
    },
    "tags": []
   },
   "source": [
    "## Train Function"
   ]
  },
  {
   "cell_type": "code",
   "execution_count": 13,
   "id": "63bf6912",
   "metadata": {
    "execution": {
     "iopub.execute_input": "2022-06-08T01:53:26.112228Z",
     "iopub.status.busy": "2022-06-08T01:53:26.111974Z",
     "iopub.status.idle": "2022-06-08T01:53:26.121483Z",
     "shell.execute_reply": "2022-06-08T01:53:26.120830Z"
    },
    "papermill": {
     "duration": 0.017934,
     "end_time": "2022-06-08T01:53:26.123160",
     "exception": false,
     "start_time": "2022-06-08T01:53:26.105226",
     "status": "completed"
    },
    "tags": []
   },
   "outputs": [],
   "source": [
    "def train(input_data, model, criterion, optimizer, transform = None):\n",
    "    '''\n",
    "    Argement:\n",
    "    input_data -- iterable data, typr torch.utils.data.Dataloader is prefer\n",
    "    model -- nn.Module, model contain forward to predict output\n",
    "    criterion -- loss function, used to evaluate goodness of model\n",
    "    optimizer -- optmizer function, method for weight updating\n",
    "    '''\n",
    "    model.train()\n",
    "    loss_list = []\n",
    "    total_count = 0\n",
    "    acc_count = 0\n",
    "    pbar = tqdm(input_data)\n",
    "    for data in pbar:\n",
    "        pbar.set_description(\"Training\")\n",
    "        images, labels = data[0].cuda(), data[1].cuda()\n",
    "        if transform:\n",
    "            images = transform(images)\n",
    "        optimizer.zero_grad()\n",
    "        outputs = model(images)\n",
    "        loss = criterion(outputs, labels)\n",
    "        loss.backward()\n",
    "        optimizer.step() \n",
    "        \n",
    "        _, predicted = torch.max(outputs.data, 1)\n",
    "        total_count += labels.size(0) \n",
    "        acc_count += (predicted == labels).sum()  \n",
    "        loss_list.append(loss.item())\n",
    "\n",
    "\n",
    "    # Compute this epoch accuracy and loss\n",
    "    acc = acc_count / total_count\n",
    "    loss = sum(loss_list) / len(loss_list)\n",
    "    return acc, loss"
   ]
  },
  {
   "cell_type": "markdown",
   "id": "eada7e96",
   "metadata": {
    "papermill": {
     "duration": 0.005685,
     "end_time": "2022-06-08T01:53:26.134574",
     "exception": false,
     "start_time": "2022-06-08T01:53:26.128889",
     "status": "completed"
    },
    "tags": []
   },
   "source": [
    "## Validation Function"
   ]
  },
  {
   "cell_type": "code",
   "execution_count": 14,
   "id": "2df2d185",
   "metadata": {
    "execution": {
     "iopub.execute_input": "2022-06-08T01:53:26.148007Z",
     "iopub.status.busy": "2022-06-08T01:53:26.147506Z",
     "iopub.status.idle": "2022-06-08T01:53:26.155375Z",
     "shell.execute_reply": "2022-06-08T01:53:26.154712Z"
    },
    "papermill": {
     "duration": 0.016585,
     "end_time": "2022-06-08T01:53:26.157340",
     "exception": false,
     "start_time": "2022-06-08T01:53:26.140755",
     "status": "completed"
    },
    "tags": []
   },
   "outputs": [],
   "source": [
    "def val(input_data, model, criterion, transform = None):\n",
    "    model.eval()\n",
    "    \n",
    "    loss_list = []\n",
    "    total_count = 0\n",
    "    acc_count = 0\n",
    "    with torch.no_grad():\n",
    "        pbar = tqdm(input_data)\n",
    "        for data in pbar:\n",
    "            pbar.set_description(\"Validation\")\n",
    "            images, labels = data[0].cuda(), data[1].cuda()\n",
    "            if transform:\n",
    "                transform(images)\n",
    "            outputs = model(images)\n",
    "            loss = criterion(outputs, labels)\n",
    "            _, predicted = torch.max(outputs.data, dim=1)\n",
    "            total_count += labels.size(0)\n",
    "            acc_count += (predicted == labels).sum()\n",
    "            loss_list.append(loss.item())\n",
    "\n",
    "    acc = acc_count / total_count\n",
    "    loss = sum(loss_list) / len(loss_list)\n",
    "    return acc, loss"
   ]
  },
  {
   "cell_type": "markdown",
   "id": "36be53b7",
   "metadata": {
    "papermill": {
     "duration": 0.005514,
     "end_time": "2022-06-08T01:53:26.168804",
     "exception": false,
     "start_time": "2022-06-08T01:53:26.163290",
     "status": "completed"
    },
    "tags": []
   },
   "source": [
    "## Start training"
   ]
  },
  {
   "cell_type": "code",
   "execution_count": 15,
   "id": "687d8f80",
   "metadata": {
    "execution": {
     "iopub.execute_input": "2022-06-08T01:53:26.182797Z",
     "iopub.status.busy": "2022-06-08T01:53:26.182547Z",
     "iopub.status.idle": "2022-06-08T01:53:26.940619Z",
     "shell.execute_reply": "2022-06-08T01:53:26.939485Z"
    },
    "papermill": {
     "duration": 0.767653,
     "end_time": "2022-06-08T01:53:26.942788",
     "exception": false,
     "start_time": "2022-06-08T01:53:26.175135",
     "status": "completed"
    },
    "tags": []
   },
   "outputs": [],
   "source": [
    "!cp -r ../input/earlystopping/early-stopping-pytorch-master/* ./\n",
    "from pytorchtools import EarlyStopping"
   ]
  },
  {
   "cell_type": "code",
   "execution_count": 16,
   "id": "3b997f2f",
   "metadata": {
    "execution": {
     "iopub.execute_input": "2022-06-08T01:53:26.956868Z",
     "iopub.status.busy": "2022-06-08T01:53:26.956115Z",
     "iopub.status.idle": "2022-06-08T02:50:42.604377Z",
     "shell.execute_reply": "2022-06-08T02:50:42.603207Z"
    },
    "papermill": {
     "duration": 3435.657304,
     "end_time": "2022-06-08T02:50:42.606185",
     "exception": false,
     "start_time": "2022-06-08T01:53:26.948881",
     "status": "completed"
    },
    "tags": []
   },
   "outputs": [
    {
     "name": "stderr",
     "output_type": "stream",
     "text": [
      "Training: 100%|██████████| 30/30 [01:55<00:00,  3.85s/it]\n",
      "Validation: 100%|██████████| 4/4 [00:09<00:00,  2.41s/it]\n"
     ]
    },
    {
     "name": "stdout",
     "output_type": "stream",
     "text": [
      "==================== Epoch 1 ====================\n",
      "Train Acc: 0.722282 Train Loss: 0.578222\n",
      "  Val Acc: 0.731235   Val Loss: 0.526245\n",
      "Validation loss decreased (inf --> -0.731235).  Saving model ...\n"
     ]
    },
    {
     "name": "stderr",
     "output_type": "stream",
     "text": [
      "Training: 100%|██████████| 30/30 [01:02<00:00,  2.08s/it]\n",
      "Validation: 100%|██████████| 4/4 [00:04<00:00,  1.18s/it]\n"
     ]
    },
    {
     "name": "stdout",
     "output_type": "stream",
     "text": [
      "==================== Epoch 2 ====================\n",
      "Train Acc: 0.739505 Train Loss: 0.548436\n",
      "  Val Acc: 0.765133   Val Loss: 0.507204\n",
      "Validation loss decreased (-0.731235 --> -0.765133).  Saving model ...\n"
     ]
    },
    {
     "name": "stderr",
     "output_type": "stream",
     "text": [
      "Training: 100%|██████████| 30/30 [01:02<00:00,  2.09s/it]\n",
      "Validation: 100%|██████████| 4/4 [00:04<00:00,  1.19s/it]\n"
     ]
    },
    {
     "name": "stdout",
     "output_type": "stream",
     "text": [
      "==================== Epoch 3 ====================\n",
      "Train Acc: 0.730624 Train Loss: 0.535701\n",
      "  Val Acc: 0.745763   Val Loss: 0.495860\n",
      "EarlyStopping counter: 1 out of 5\n"
     ]
    },
    {
     "name": "stderr",
     "output_type": "stream",
     "text": [
      "Training: 100%|██████████| 30/30 [01:02<00:00,  2.09s/it]\n",
      "Validation: 100%|██████████| 4/4 [00:05<00:00,  1.31s/it]\n"
     ]
    },
    {
     "name": "stdout",
     "output_type": "stream",
     "text": [
      "==================== Epoch 4 ====================\n",
      "Train Acc: 0.759957 Train Loss: 0.501385\n",
      "  Val Acc: 0.753027   Val Loss: 0.490990\n",
      "EarlyStopping counter: 2 out of 5\n"
     ]
    },
    {
     "name": "stderr",
     "output_type": "stream",
     "text": [
      "Training: 100%|██████████| 30/30 [01:02<00:00,  2.08s/it]\n",
      "Validation: 100%|██████████| 4/4 [00:05<00:00,  1.31s/it]\n"
     ]
    },
    {
     "name": "stdout",
     "output_type": "stream",
     "text": [
      "==================== Epoch 5 ====================\n",
      "Train Acc: 0.756728 Train Loss: 0.491241\n",
      "  Val Acc: 0.743341   Val Loss: 0.506832\n",
      "EarlyStopping counter: 3 out of 5\n"
     ]
    },
    {
     "name": "stderr",
     "output_type": "stream",
     "text": [
      "Training: 100%|██████████| 30/30 [01:01<00:00,  2.05s/it]\n",
      "Validation: 100%|██████████| 4/4 [00:05<00:00,  1.28s/it]\n"
     ]
    },
    {
     "name": "stdout",
     "output_type": "stream",
     "text": [
      "==================== Epoch 6 ====================\n",
      "Train Acc: 0.772605 Train Loss: 0.468247\n",
      "  Val Acc: 0.767555   Val Loss: 0.510643\n",
      "Validation loss decreased (-0.765133 --> -0.767555).  Saving model ...\n"
     ]
    },
    {
     "name": "stderr",
     "output_type": "stream",
     "text": [
      "Training: 100%|██████████| 30/30 [01:02<00:00,  2.08s/it]\n",
      "Validation: 100%|██████████| 4/4 [00:05<00:00,  1.27s/it]\n"
     ]
    },
    {
     "name": "stdout",
     "output_type": "stream",
     "text": [
      "==================== Epoch 7 ====================\n",
      "Train Acc: 0.776372 Train Loss: 0.470511\n",
      "  Val Acc: 0.755448   Val Loss: 0.489610\n",
      "EarlyStopping counter: 1 out of 5\n"
     ]
    },
    {
     "name": "stderr",
     "output_type": "stream",
     "text": [
      "Training: 100%|██████████| 30/30 [01:02<00:00,  2.08s/it]\n",
      "Validation: 100%|██████████| 4/4 [00:04<00:00,  1.18s/it]\n"
     ]
    },
    {
     "name": "stdout",
     "output_type": "stream",
     "text": [
      "==================== Epoch 8 ====================\n",
      "Train Acc: 0.784984 Train Loss: 0.449280\n",
      "  Val Acc: 0.755448   Val Loss: 0.520837\n",
      "EarlyStopping counter: 2 out of 5\n"
     ]
    },
    {
     "name": "stderr",
     "output_type": "stream",
     "text": [
      "Training: 100%|██████████| 30/30 [01:02<00:00,  2.07s/it]\n",
      "Validation: 100%|██████████| 4/4 [00:04<00:00,  1.18s/it]\n"
     ]
    },
    {
     "name": "stdout",
     "output_type": "stream",
     "text": [
      "==================== Epoch 9 ====================\n",
      "Train Acc: 0.787406 Train Loss: 0.470806\n",
      "  Val Acc: 0.743341   Val Loss: 0.531073\n",
      "EarlyStopping counter: 3 out of 5\n"
     ]
    },
    {
     "name": "stderr",
     "output_type": "stream",
     "text": [
      "Training: 100%|██████████| 30/30 [01:02<00:00,  2.08s/it]\n",
      "Validation: 100%|██████████| 4/4 [00:04<00:00,  1.19s/it]\n"
     ]
    },
    {
     "name": "stdout",
     "output_type": "stream",
     "text": [
      "==================== Epoch 10 ====================\n",
      "Train Acc: 0.768299 Train Loss: 0.494736\n",
      "  Val Acc: 0.767555   Val Loss: 0.513823\n",
      "Validation loss decreased (-0.767555 --> -0.767555).  Saving model ...\n"
     ]
    },
    {
     "name": "stderr",
     "output_type": "stream",
     "text": [
      "Training: 100%|██████████| 30/30 [01:01<00:00,  2.06s/it]\n",
      "Validation: 100%|██████████| 4/4 [00:04<00:00,  1.19s/it]\n"
     ]
    },
    {
     "name": "stdout",
     "output_type": "stream",
     "text": [
      "==================== Epoch 11 ====================\n",
      "Train Acc: 0.772605 Train Loss: 0.468385\n",
      "  Val Acc: 0.743341   Val Loss: 0.537582\n",
      "EarlyStopping counter: 1 out of 5\n"
     ]
    },
    {
     "name": "stderr",
     "output_type": "stream",
     "text": [
      "Training: 100%|██████████| 30/30 [01:02<00:00,  2.09s/it]\n",
      "Validation: 100%|██████████| 4/4 [00:04<00:00,  1.19s/it]\n"
     ]
    },
    {
     "name": "stdout",
     "output_type": "stream",
     "text": [
      "==================== Epoch 12 ====================\n",
      "Train Acc: 0.784715 Train Loss: 0.465879\n",
      "  Val Acc: 0.726392   Val Loss: 0.501454\n",
      "EarlyStopping counter: 2 out of 5\n"
     ]
    },
    {
     "name": "stderr",
     "output_type": "stream",
     "text": [
      "Training: 100%|██████████| 30/30 [01:02<00:00,  2.08s/it]\n",
      "Validation: 100%|██████████| 4/4 [00:04<00:00,  1.19s/it]\n"
     ]
    },
    {
     "name": "stdout",
     "output_type": "stream",
     "text": [
      "==================== Epoch 13 ====================\n",
      "Train Acc: 0.782293 Train Loss: 0.433036\n",
      "  Val Acc: 0.733656   Val Loss: 0.520631\n",
      "EarlyStopping counter: 3 out of 5\n"
     ]
    },
    {
     "name": "stderr",
     "output_type": "stream",
     "text": [
      "Training: 100%|██████████| 30/30 [01:02<00:00,  2.07s/it]\n",
      "Validation: 100%|██████████| 4/4 [00:04<00:00,  1.23s/it]\n"
     ]
    },
    {
     "name": "stdout",
     "output_type": "stream",
     "text": [
      "==================== Epoch 14 ====================\n",
      "Train Acc: 0.785791 Train Loss: 0.442016\n",
      "  Val Acc: 0.743341   Val Loss: 0.553152\n",
      "EarlyStopping counter: 4 out of 5\n"
     ]
    },
    {
     "name": "stderr",
     "output_type": "stream",
     "text": [
      "Training: 100%|██████████| 30/30 [01:02<00:00,  2.07s/it]\n",
      "Validation: 100%|██████████| 4/4 [00:04<00:00,  1.22s/it]\n"
     ]
    },
    {
     "name": "stdout",
     "output_type": "stream",
     "text": [
      "==================== Epoch 15 ====================\n",
      "Train Acc: 0.785522 Train Loss: 0.455961\n",
      "  Val Acc: 0.760291   Val Loss: 0.534219\n",
      "EarlyStopping counter: 5 out of 5\n"
     ]
    },
    {
     "name": "stderr",
     "output_type": "stream",
     "text": [
      "Training: 100%|██████████| 30/30 [01:02<00:00,  2.07s/it]\n",
      "Validation: 100%|██████████| 4/4 [00:04<00:00,  1.24s/it]\n"
     ]
    },
    {
     "name": "stdout",
     "output_type": "stream",
     "text": [
      "==================== Epoch 16 ====================\n",
      "Train Acc: 0.801130 Train Loss: 0.417843\n",
      "  Val Acc: 0.743341   Val Loss: 0.519390\n",
      "EarlyStopping counter: 6 out of 5\n"
     ]
    },
    {
     "name": "stderr",
     "output_type": "stream",
     "text": [
      "Training: 100%|██████████| 30/30 [01:02<00:00,  2.07s/it]\n",
      "Validation: 100%|██████████| 4/4 [00:04<00:00,  1.23s/it]\n"
     ]
    },
    {
     "name": "stdout",
     "output_type": "stream",
     "text": [
      "==================== Epoch 17 ====================\n",
      "Train Acc: 0.803283 Train Loss: 0.454057\n",
      "  Val Acc: 0.719128   Val Loss: 0.550649\n",
      "EarlyStopping counter: 7 out of 5\n"
     ]
    },
    {
     "name": "stderr",
     "output_type": "stream",
     "text": [
      "Training: 100%|██████████| 30/30 [01:02<00:00,  2.07s/it]\n",
      "Validation: 100%|██████████| 4/4 [00:04<00:00,  1.19s/it]\n"
     ]
    },
    {
     "name": "stdout",
     "output_type": "stream",
     "text": [
      "==================== Epoch 18 ====================\n",
      "Train Acc: 0.716362 Train Loss: 0.574204\n",
      "  Val Acc: 0.731235   Val Loss: 0.567218\n",
      "EarlyStopping counter: 8 out of 5\n"
     ]
    },
    {
     "name": "stderr",
     "output_type": "stream",
     "text": [
      "Training: 100%|██████████| 30/30 [01:02<00:00,  2.08s/it]\n",
      "Validation: 100%|██████████| 4/4 [00:04<00:00,  1.18s/it]\n"
     ]
    },
    {
     "name": "stdout",
     "output_type": "stream",
     "text": [
      "==================== Epoch 19 ====================\n",
      "Train Acc: 0.741927 Train Loss: 0.510988\n",
      "  Val Acc: 0.723971   Val Loss: 0.527325\n",
      "EarlyStopping counter: 9 out of 5\n"
     ]
    },
    {
     "name": "stderr",
     "output_type": "stream",
     "text": [
      "Training: 100%|██████████| 30/30 [01:02<00:00,  2.08s/it]\n",
      "Validation: 100%|██████████| 4/4 [00:04<00:00,  1.18s/it]\n"
     ]
    },
    {
     "name": "stdout",
     "output_type": "stream",
     "text": [
      "==================== Epoch 20 ====================\n",
      "Train Acc: 0.768030 Train Loss: 0.469033\n",
      "  Val Acc: 0.723971   Val Loss: 0.539730\n",
      "EarlyStopping counter: 10 out of 5\n"
     ]
    },
    {
     "name": "stderr",
     "output_type": "stream",
     "text": [
      "Training: 100%|██████████| 30/30 [01:02<00:00,  2.09s/it]\n",
      "Validation: 100%|██████████| 4/4 [00:04<00:00,  1.19s/it]\n"
     ]
    },
    {
     "name": "stdout",
     "output_type": "stream",
     "text": [
      "==================== Epoch 21 ====================\n",
      "Train Acc: 0.786329 Train Loss: 0.448832\n",
      "  Val Acc: 0.738499   Val Loss: 0.503831\n",
      "EarlyStopping counter: 11 out of 5\n"
     ]
    },
    {
     "name": "stderr",
     "output_type": "stream",
     "text": [
      "Training: 100%|██████████| 30/30 [01:02<00:00,  2.08s/it]\n",
      "Validation: 100%|██████████| 4/4 [00:04<00:00,  1.19s/it]\n"
     ]
    },
    {
     "name": "stdout",
     "output_type": "stream",
     "text": [
      "==================== Epoch 22 ====================\n",
      "Train Acc: 0.781755 Train Loss: 0.444297\n",
      "  Val Acc: 0.736077   Val Loss: 0.543557\n",
      "EarlyStopping counter: 12 out of 5\n"
     ]
    },
    {
     "name": "stderr",
     "output_type": "stream",
     "text": [
      "Training: 100%|██████████| 30/30 [01:02<00:00,  2.07s/it]\n",
      "Validation: 100%|██████████| 4/4 [00:04<00:00,  1.20s/it]\n"
     ]
    },
    {
     "name": "stdout",
     "output_type": "stream",
     "text": [
      "==================== Epoch 23 ====================\n",
      "Train Acc: 0.788482 Train Loss: 0.439140\n",
      "  Val Acc: 0.733656   Val Loss: 0.540715\n",
      "EarlyStopping counter: 13 out of 5\n"
     ]
    },
    {
     "name": "stderr",
     "output_type": "stream",
     "text": [
      "Training: 100%|██████████| 30/30 [01:02<00:00,  2.09s/it]\n",
      "Validation: 100%|██████████| 4/4 [00:05<00:00,  1.30s/it]\n"
     ]
    },
    {
     "name": "stdout",
     "output_type": "stream",
     "text": [
      "==================== Epoch 24 ====================\n",
      "Train Acc: 0.778256 Train Loss: 0.438217\n",
      "  Val Acc: 0.767555   Val Loss: 0.554035\n",
      "Validation loss decreased (-0.767555 --> -0.767555).  Saving model ...\n"
     ]
    },
    {
     "name": "stderr",
     "output_type": "stream",
     "text": [
      "Training: 100%|██████████| 30/30 [01:01<00:00,  2.06s/it]\n",
      "Validation: 100%|██████████| 4/4 [00:05<00:00,  1.32s/it]\n"
     ]
    },
    {
     "name": "stdout",
     "output_type": "stream",
     "text": [
      "==================== Epoch 25 ====================\n",
      "Train Acc: 0.791442 Train Loss: 0.488239\n",
      "  Val Acc: 0.750605   Val Loss: 0.470705\n",
      "EarlyStopping counter: 1 out of 5\n"
     ]
    },
    {
     "name": "stderr",
     "output_type": "stream",
     "text": [
      "Training: 100%|██████████| 30/30 [01:01<00:00,  2.05s/it]\n",
      "Validation: 100%|██████████| 4/4 [00:05<00:00,  1.30s/it]\n"
     ]
    },
    {
     "name": "stdout",
     "output_type": "stream",
     "text": [
      "==================== Epoch 26 ====================\n",
      "Train Acc: 0.740312 Train Loss: 0.538003\n",
      "  Val Acc: 0.753027   Val Loss: 0.508922\n",
      "EarlyStopping counter: 2 out of 5\n"
     ]
    },
    {
     "name": "stderr",
     "output_type": "stream",
     "text": [
      "Training: 100%|██████████| 30/30 [01:01<00:00,  2.05s/it]\n",
      "Validation: 100%|██████████| 4/4 [00:05<00:00,  1.32s/it]\n"
     ]
    },
    {
     "name": "stdout",
     "output_type": "stream",
     "text": [
      "==================== Epoch 27 ====================\n",
      "Train Acc: 0.768299 Train Loss: 0.478914\n",
      "  Val Acc: 0.745763   Val Loss: 0.519955\n",
      "EarlyStopping counter: 3 out of 5\n"
     ]
    },
    {
     "name": "stderr",
     "output_type": "stream",
     "text": [
      "Training: 100%|██████████| 30/30 [01:01<00:00,  2.03s/it]\n",
      "Validation: 100%|██████████| 4/4 [00:05<00:00,  1.32s/it]\n"
     ]
    },
    {
     "name": "stdout",
     "output_type": "stream",
     "text": [
      "==================== Epoch 28 ====================\n",
      "Train Acc: 0.790904 Train Loss: 0.446250\n",
      "  Val Acc: 0.738499   Val Loss: 0.499805\n",
      "EarlyStopping counter: 4 out of 5\n"
     ]
    },
    {
     "name": "stderr",
     "output_type": "stream",
     "text": [
      "Training: 100%|██████████| 30/30 [01:01<00:00,  2.05s/it]\n",
      "Validation: 100%|██████████| 4/4 [00:05<00:00,  1.28s/it]\n"
     ]
    },
    {
     "name": "stdout",
     "output_type": "stream",
     "text": [
      "==================== Epoch 29 ====================\n",
      "Train Acc: 0.782562 Train Loss: 0.432336\n",
      "  Val Acc: 0.753027   Val Loss: 0.545770\n",
      "EarlyStopping counter: 5 out of 5\n"
     ]
    },
    {
     "name": "stderr",
     "output_type": "stream",
     "text": [
      "Training: 100%|██████████| 30/30 [01:01<00:00,  2.06s/it]\n",
      "Validation: 100%|██████████| 4/4 [00:04<00:00,  1.24s/it]\n"
     ]
    },
    {
     "name": "stdout",
     "output_type": "stream",
     "text": [
      "==================== Epoch 30 ====================\n",
      "Train Acc: 0.790097 Train Loss: 0.466354\n",
      "  Val Acc: 0.733656   Val Loss: 0.502227\n",
      "EarlyStopping counter: 6 out of 5\n"
     ]
    },
    {
     "name": "stderr",
     "output_type": "stream",
     "text": [
      "Training: 100%|██████████| 30/30 [01:03<00:00,  2.10s/it]\n",
      "Validation: 100%|██████████| 4/4 [00:04<00:00,  1.18s/it]\n"
     ]
    },
    {
     "name": "stdout",
     "output_type": "stream",
     "text": [
      "==================== Epoch 31 ====================\n",
      "Train Acc: 0.770183 Train Loss: 0.473824\n",
      "  Val Acc: 0.723971   Val Loss: 0.539217\n",
      "EarlyStopping counter: 7 out of 5\n"
     ]
    },
    {
     "name": "stderr",
     "output_type": "stream",
     "text": [
      "Training: 100%|██████████| 30/30 [01:03<00:00,  2.10s/it]\n",
      "Validation: 100%|██████████| 4/4 [00:04<00:00,  1.21s/it]\n"
     ]
    },
    {
     "name": "stdout",
     "output_type": "stream",
     "text": [
      "==================== Epoch 32 ====================\n",
      "Train Acc: 0.785522 Train Loss: 0.465843\n",
      "  Val Acc: 0.765133   Val Loss: 0.515231\n",
      "EarlyStopping counter: 8 out of 5\n"
     ]
    },
    {
     "name": "stderr",
     "output_type": "stream",
     "text": [
      "Training: 100%|██████████| 30/30 [01:03<00:00,  2.11s/it]\n",
      "Validation: 100%|██████████| 4/4 [00:04<00:00,  1.24s/it]\n"
     ]
    },
    {
     "name": "stdout",
     "output_type": "stream",
     "text": [
      "==================== Epoch 33 ====================\n",
      "Train Acc: 0.790904 Train Loss: 0.445605\n",
      "  Val Acc: 0.753027   Val Loss: 0.537815\n",
      "EarlyStopping counter: 9 out of 5\n"
     ]
    },
    {
     "name": "stderr",
     "output_type": "stream",
     "text": [
      "Training: 100%|██████████| 30/30 [01:02<00:00,  2.10s/it]\n",
      "Validation: 100%|██████████| 4/4 [00:04<00:00,  1.24s/it]\n"
     ]
    },
    {
     "name": "stdout",
     "output_type": "stream",
     "text": [
      "==================== Epoch 34 ====================\n",
      "Train Acc: 0.796286 Train Loss: 0.418581\n",
      "  Val Acc: 0.755448   Val Loss: 0.525989\n",
      "EarlyStopping counter: 10 out of 5\n"
     ]
    },
    {
     "name": "stderr",
     "output_type": "stream",
     "text": [
      "Training: 100%|██████████| 30/30 [01:02<00:00,  2.08s/it]\n",
      "Validation: 100%|██████████| 4/4 [00:04<00:00,  1.23s/it]\n"
     ]
    },
    {
     "name": "stdout",
     "output_type": "stream",
     "text": [
      "==================== Epoch 35 ====================\n",
      "Train Acc: 0.817008 Train Loss: 0.396577\n",
      "  Val Acc: 0.769976   Val Loss: 0.513844\n",
      "Validation loss decreased (-0.767555 --> -0.769976).  Saving model ...\n"
     ]
    },
    {
     "name": "stderr",
     "output_type": "stream",
     "text": [
      "Training: 100%|██████████| 30/30 [01:02<00:00,  2.09s/it]\n",
      "Validation: 100%|██████████| 4/4 [00:04<00:00,  1.18s/it]\n"
     ]
    },
    {
     "name": "stdout",
     "output_type": "stream",
     "text": [
      "==================== Epoch 36 ====================\n",
      "Train Acc: 0.812971 Train Loss: 0.413723\n",
      "  Val Acc: 0.733656   Val Loss: 0.524324\n",
      "EarlyStopping counter: 1 out of 5\n"
     ]
    },
    {
     "name": "stderr",
     "output_type": "stream",
     "text": [
      "Training: 100%|██████████| 30/30 [01:03<00:00,  2.11s/it]\n",
      "Validation: 100%|██████████| 4/4 [00:04<00:00,  1.20s/it]\n"
     ]
    },
    {
     "name": "stdout",
     "output_type": "stream",
     "text": [
      "==================== Epoch 37 ====================\n",
      "Train Acc: 0.801938 Train Loss: 0.425660\n",
      "  Val Acc: 0.753027   Val Loss: 0.573256\n",
      "EarlyStopping counter: 2 out of 5\n"
     ]
    },
    {
     "name": "stderr",
     "output_type": "stream",
     "text": [
      "Training: 100%|██████████| 30/30 [01:03<00:00,  2.13s/it]\n",
      "Validation: 100%|██████████| 4/4 [00:04<00:00,  1.21s/it]\n"
     ]
    },
    {
     "name": "stdout",
     "output_type": "stream",
     "text": [
      "==================== Epoch 38 ====================\n",
      "Train Acc: 0.794403 Train Loss: 0.419032\n",
      "  Val Acc: 0.767555   Val Loss: 0.536474\n",
      "EarlyStopping counter: 3 out of 5\n"
     ]
    },
    {
     "name": "stderr",
     "output_type": "stream",
     "text": [
      "Training: 100%|██████████| 30/30 [01:03<00:00,  2.10s/it]\n",
      "Validation: 100%|██████████| 4/4 [00:04<00:00,  1.22s/it]\n"
     ]
    },
    {
     "name": "stdout",
     "output_type": "stream",
     "text": [
      "==================== Epoch 39 ====================\n",
      "Train Acc: 0.807051 Train Loss: 0.401692\n",
      "  Val Acc: 0.769976   Val Loss: 0.490031\n",
      "Validation loss decreased (-0.769976 --> -0.769976).  Saving model ...\n"
     ]
    },
    {
     "name": "stderr",
     "output_type": "stream",
     "text": [
      "Training: 100%|██████████| 30/30 [01:02<00:00,  2.09s/it]\n",
      "Validation: 100%|██████████| 4/4 [00:04<00:00,  1.24s/it]\n"
     ]
    },
    {
     "name": "stdout",
     "output_type": "stream",
     "text": [
      "==================== Epoch 40 ====================\n",
      "Train Acc: 0.826157 Train Loss: 0.370753\n",
      "  Val Acc: 0.753027   Val Loss: 0.568023\n",
      "EarlyStopping counter: 1 out of 5\n"
     ]
    },
    {
     "name": "stderr",
     "output_type": "stream",
     "text": [
      "Training: 100%|██████████| 30/30 [01:03<00:00,  2.12s/it]\n",
      "Validation: 100%|██████████| 4/4 [00:04<00:00,  1.19s/it]\n"
     ]
    },
    {
     "name": "stdout",
     "output_type": "stream",
     "text": [
      "==================== Epoch 41 ====================\n",
      "Train Acc: 0.812971 Train Loss: 0.377375\n",
      "  Val Acc: 0.748184   Val Loss: 0.637843\n",
      "EarlyStopping counter: 2 out of 5\n"
     ]
    },
    {
     "name": "stderr",
     "output_type": "stream",
     "text": [
      "Training: 100%|██████████| 30/30 [01:03<00:00,  2.11s/it]\n",
      "Validation: 100%|██████████| 4/4 [00:04<00:00,  1.24s/it]\n"
     ]
    },
    {
     "name": "stdout",
     "output_type": "stream",
     "text": [
      "==================== Epoch 42 ====================\n",
      "Train Acc: 0.817008 Train Loss: 0.382312\n",
      "  Val Acc: 0.745763   Val Loss: 0.534053\n",
      "EarlyStopping counter: 3 out of 5\n"
     ]
    },
    {
     "name": "stderr",
     "output_type": "stream",
     "text": [
      "Training: 100%|██████████| 30/30 [01:03<00:00,  2.11s/it]\n",
      "Validation: 100%|██████████| 4/4 [00:05<00:00,  1.29s/it]\n"
     ]
    },
    {
     "name": "stdout",
     "output_type": "stream",
     "text": [
      "==================== Epoch 43 ====================\n",
      "Train Acc: 0.826157 Train Loss: 0.399532\n",
      "  Val Acc: 0.731235   Val Loss: 0.566503\n",
      "EarlyStopping counter: 4 out of 5\n"
     ]
    },
    {
     "name": "stderr",
     "output_type": "stream",
     "text": [
      "Training: 100%|██████████| 30/30 [01:03<00:00,  2.11s/it]\n",
      "Validation: 100%|██████████| 4/4 [00:04<00:00,  1.24s/it]\n"
     ]
    },
    {
     "name": "stdout",
     "output_type": "stream",
     "text": [
      "==================== Epoch 44 ====================\n",
      "Train Acc: 0.821044 Train Loss: 0.395760\n",
      "  Val Acc: 0.753027   Val Loss: 0.516776\n",
      "EarlyStopping counter: 5 out of 5\n"
     ]
    },
    {
     "name": "stderr",
     "output_type": "stream",
     "text": [
      "Training: 100%|██████████| 30/30 [01:03<00:00,  2.12s/it]\n",
      "Validation: 100%|██████████| 4/4 [00:04<00:00,  1.20s/it]\n"
     ]
    },
    {
     "name": "stdout",
     "output_type": "stream",
     "text": [
      "==================== Epoch 45 ====================\n",
      "Train Acc: 0.824543 Train Loss: 0.379820\n",
      "  Val Acc: 0.779661   Val Loss: 0.536778\n",
      "Validation loss decreased (-0.769976 --> -0.779661).  Saving model ...\n"
     ]
    },
    {
     "name": "stderr",
     "output_type": "stream",
     "text": [
      "Training: 100%|██████████| 30/30 [01:04<00:00,  2.15s/it]\n",
      "Validation: 100%|██████████| 4/4 [00:04<00:00,  1.21s/it]\n"
     ]
    },
    {
     "name": "stdout",
     "output_type": "stream",
     "text": [
      "==================== Epoch 46 ====================\n",
      "Train Acc: 0.831808 Train Loss: 0.357316\n",
      "  Val Acc: 0.726392   Val Loss: 0.609533\n",
      "EarlyStopping counter: 1 out of 5\n"
     ]
    },
    {
     "name": "stderr",
     "output_type": "stream",
     "text": [
      "Training: 100%|██████████| 30/30 [01:03<00:00,  2.11s/it]\n",
      "Validation: 100%|██████████| 4/4 [00:05<00:00,  1.26s/it]\n"
     ]
    },
    {
     "name": "stdout",
     "output_type": "stream",
     "text": [
      "==================== Epoch 47 ====================\n",
      "Train Acc: 0.830732 Train Loss: 0.370856\n",
      "  Val Acc: 0.757869   Val Loss: 0.559940\n",
      "EarlyStopping counter: 2 out of 5\n"
     ]
    },
    {
     "name": "stderr",
     "output_type": "stream",
     "text": [
      "Training: 100%|██████████| 30/30 [01:03<00:00,  2.11s/it]\n",
      "Validation: 100%|██████████| 4/4 [00:05<00:00,  1.27s/it]\n"
     ]
    },
    {
     "name": "stdout",
     "output_type": "stream",
     "text": [
      "==================== Epoch 48 ====================\n",
      "Train Acc: 0.837191 Train Loss: 0.349088\n",
      "  Val Acc: 0.690073   Val Loss: 0.653334\n",
      "EarlyStopping counter: 3 out of 5\n"
     ]
    },
    {
     "name": "stderr",
     "output_type": "stream",
     "text": [
      "Training: 100%|██████████| 30/30 [01:02<00:00,  2.09s/it]\n",
      "Validation: 100%|██████████| 4/4 [00:04<00:00,  1.22s/it]\n"
     ]
    },
    {
     "name": "stdout",
     "output_type": "stream",
     "text": [
      "==================== Epoch 49 ====================\n",
      "Train Acc: 0.834499 Train Loss: 0.352112\n",
      "  Val Acc: 0.723971   Val Loss: 0.635486\n",
      "EarlyStopping counter: 4 out of 5\n"
     ]
    },
    {
     "name": "stderr",
     "output_type": "stream",
     "text": [
      "Training: 100%|██████████| 30/30 [01:03<00:00,  2.10s/it]\n",
      "Validation: 100%|██████████| 4/4 [00:04<00:00,  1.20s/it]"
     ]
    },
    {
     "name": "stdout",
     "output_type": "stream",
     "text": [
      "==================== Epoch 50 ====================\n",
      "Train Acc: 0.835576 Train Loss: 0.354566\n",
      "  Val Acc: 0.738499   Val Loss: 0.626504\n",
      "EarlyStopping counter: 5 out of 5\n"
     ]
    },
    {
     "name": "stderr",
     "output_type": "stream",
     "text": [
      "\n"
     ]
    }
   ],
   "source": [
    "max_epochs = 50\n",
    "log_interval = 1 # print acc and loss in per log_interval time\n",
    "patience = 5\n",
    "early_stopping = EarlyStopping(patience=patience, verbose=True, path='checkpoint_urban.pt')\n",
    "train_acc_list = []\n",
    "train_loss_list = []\n",
    "val_acc_list = []\n",
    "val_loss_list = []\n",
    "\n",
    "for epoch in range(1, max_epochs + 1):\n",
    "    train_acc, train_loss = train(train_loader, model, criterion, optimizer)\n",
    "    val_acc, val_loss = val(val_loader, model, criterion)\n",
    "\n",
    "    train_acc_list.append(train_acc)\n",
    "    train_loss_list.append(train_loss)\n",
    "    val_acc_list.append(val_acc)\n",
    "    val_loss_list.append(val_loss)\n",
    "    if epoch % log_interval == 0:\n",
    "        print('=' * 20, 'Epoch', epoch, '=' * 20)\n",
    "        print('Train Acc: {:.6f} Train Loss: {:.6f}'.format(train_acc, train_loss))\n",
    "        print('  Val Acc: {:.6f}   Val Loss: {:.6f}'.format(val_acc, val_loss))\n",
    "    \n",
    "    early_stopping(-val_acc, model)\n",
    "#     if early_stopping.early_stop:\n",
    "#         print(\"Early stopping\")\n",
    "#         break"
   ]
  }
 ],
 "metadata": {
  "kernelspec": {
   "display_name": "Python 3",
   "language": "python",
   "name": "python3"
  },
  "language_info": {
   "codemirror_mode": {
    "name": "ipython",
    "version": 3
   },
   "file_extension": ".py",
   "mimetype": "text/x-python",
   "name": "python",
   "nbconvert_exporter": "python",
   "pygments_lexer": "ipython3",
   "version": "3.7.12"
  },
  "papermill": {
   "default_parameters": {},
   "duration": 3462.741828,
   "end_time": "2022-06-08T02:50:45.580680",
   "environment_variables": {},
   "exception": null,
   "input_path": "__notebook__.ipynb",
   "output_path": "__notebook__.ipynb",
   "parameters": {},
   "start_time": "2022-06-08T01:53:02.838852",
   "version": "2.3.4"
  },
  "widgets": {
   "application/vnd.jupyter.widget-state+json": {
    "state": {
     "23cb6bb3e79b4dfe9f39aa2bf2de3760": {
      "model_module": "@jupyter-widgets/base",
      "model_module_version": "1.2.0",
      "model_name": "LayoutModel",
      "state": {
       "_model_module": "@jupyter-widgets/base",
       "_model_module_version": "1.2.0",
       "_model_name": "LayoutModel",
       "_view_count": null,
       "_view_module": "@jupyter-widgets/base",
       "_view_module_version": "1.2.0",
       "_view_name": "LayoutView",
       "align_content": null,
       "align_items": null,
       "align_self": null,
       "border": null,
       "bottom": null,
       "display": null,
       "flex": null,
       "flex_flow": null,
       "grid_area": null,
       "grid_auto_columns": null,
       "grid_auto_flow": null,
       "grid_auto_rows": null,
       "grid_column": null,
       "grid_gap": null,
       "grid_row": null,
       "grid_template_areas": null,
       "grid_template_columns": null,
       "grid_template_rows": null,
       "height": null,
       "justify_content": null,
       "justify_items": null,
       "left": null,
       "margin": null,
       "max_height": null,
       "max_width": null,
       "min_height": null,
       "min_width": null,
       "object_fit": null,
       "object_position": null,
       "order": null,
       "overflow": null,
       "overflow_x": null,
       "overflow_y": null,
       "padding": null,
       "right": null,
       "top": null,
       "visibility": null,
       "width": null
      }
     },
     "43bf2cd28658481dba4a116a7e599e6f": {
      "model_module": "@jupyter-widgets/base",
      "model_module_version": "1.2.0",
      "model_name": "LayoutModel",
      "state": {
       "_model_module": "@jupyter-widgets/base",
       "_model_module_version": "1.2.0",
       "_model_name": "LayoutModel",
       "_view_count": null,
       "_view_module": "@jupyter-widgets/base",
       "_view_module_version": "1.2.0",
       "_view_name": "LayoutView",
       "align_content": null,
       "align_items": null,
       "align_self": null,
       "border": null,
       "bottom": null,
       "display": null,
       "flex": null,
       "flex_flow": null,
       "grid_area": null,
       "grid_auto_columns": null,
       "grid_auto_flow": null,
       "grid_auto_rows": null,
       "grid_column": null,
       "grid_gap": null,
       "grid_row": null,
       "grid_template_areas": null,
       "grid_template_columns": null,
       "grid_template_rows": null,
       "height": null,
       "justify_content": null,
       "justify_items": null,
       "left": null,
       "margin": null,
       "max_height": null,
       "max_width": null,
       "min_height": null,
       "min_width": null,
       "object_fit": null,
       "object_position": null,
       "order": null,
       "overflow": null,
       "overflow_x": null,
       "overflow_y": null,
       "padding": null,
       "right": null,
       "top": null,
       "visibility": null,
       "width": null
      }
     },
     "4c4ad4060a644cccba8267fb2c9660aa": {
      "model_module": "@jupyter-widgets/base",
      "model_module_version": "1.2.0",
      "model_name": "LayoutModel",
      "state": {
       "_model_module": "@jupyter-widgets/base",
       "_model_module_version": "1.2.0",
       "_model_name": "LayoutModel",
       "_view_count": null,
       "_view_module": "@jupyter-widgets/base",
       "_view_module_version": "1.2.0",
       "_view_name": "LayoutView",
       "align_content": null,
       "align_items": null,
       "align_self": null,
       "border": null,
       "bottom": null,
       "display": null,
       "flex": null,
       "flex_flow": null,
       "grid_area": null,
       "grid_auto_columns": null,
       "grid_auto_flow": null,
       "grid_auto_rows": null,
       "grid_column": null,
       "grid_gap": null,
       "grid_row": null,
       "grid_template_areas": null,
       "grid_template_columns": null,
       "grid_template_rows": null,
       "height": null,
       "justify_content": null,
       "justify_items": null,
       "left": null,
       "margin": null,
       "max_height": null,
       "max_width": null,
       "min_height": null,
       "min_width": null,
       "object_fit": null,
       "object_position": null,
       "order": null,
       "overflow": null,
       "overflow_x": null,
       "overflow_y": null,
       "padding": null,
       "right": null,
       "top": null,
       "visibility": null,
       "width": null
      }
     },
     "4e85aee00a5b44f6aad970902d5c18d8": {
      "model_module": "@jupyter-widgets/base",
      "model_module_version": "1.2.0",
      "model_name": "LayoutModel",
      "state": {
       "_model_module": "@jupyter-widgets/base",
       "_model_module_version": "1.2.0",
       "_model_name": "LayoutModel",
       "_view_count": null,
       "_view_module": "@jupyter-widgets/base",
       "_view_module_version": "1.2.0",
       "_view_name": "LayoutView",
       "align_content": null,
       "align_items": null,
       "align_self": null,
       "border": null,
       "bottom": null,
       "display": null,
       "flex": null,
       "flex_flow": null,
       "grid_area": null,
       "grid_auto_columns": null,
       "grid_auto_flow": null,
       "grid_auto_rows": null,
       "grid_column": null,
       "grid_gap": null,
       "grid_row": null,
       "grid_template_areas": null,
       "grid_template_columns": null,
       "grid_template_rows": null,
       "height": null,
       "justify_content": null,
       "justify_items": null,
       "left": null,
       "margin": null,
       "max_height": null,
       "max_width": null,
       "min_height": null,
       "min_width": null,
       "object_fit": null,
       "object_position": null,
       "order": null,
       "overflow": null,
       "overflow_x": null,
       "overflow_y": null,
       "padding": null,
       "right": null,
       "top": null,
       "visibility": null,
       "width": null
      }
     },
     "7cf12b3999f046b49b165b19c47deb6a": {
      "model_module": "@jupyter-widgets/controls",
      "model_module_version": "1.5.0",
      "model_name": "HBoxModel",
      "state": {
       "_dom_classes": [],
       "_model_module": "@jupyter-widgets/controls",
       "_model_module_version": "1.5.0",
       "_model_name": "HBoxModel",
       "_view_count": null,
       "_view_module": "@jupyter-widgets/controls",
       "_view_module_version": "1.5.0",
       "_view_name": "HBoxView",
       "box_style": "",
       "children": [
        "IPY_MODEL_bc9b81ca60ca482b856104e08fd3040c",
        "IPY_MODEL_95fb7386c03145c68b57cf8ff14871d6",
        "IPY_MODEL_deee6f4e84904faeb68813527db1e0db"
       ],
       "layout": "IPY_MODEL_23cb6bb3e79b4dfe9f39aa2bf2de3760"
      }
     },
     "95fb7386c03145c68b57cf8ff14871d6": {
      "model_module": "@jupyter-widgets/controls",
      "model_module_version": "1.5.0",
      "model_name": "FloatProgressModel",
      "state": {
       "_dom_classes": [],
       "_model_module": "@jupyter-widgets/controls",
       "_model_module_version": "1.5.0",
       "_model_name": "FloatProgressModel",
       "_view_count": null,
       "_view_module": "@jupyter-widgets/controls",
       "_view_module_version": "1.5.0",
       "_view_name": "ProgressView",
       "bar_style": "success",
       "description": "",
       "description_tooltip": null,
       "layout": "IPY_MODEL_4e85aee00a5b44f6aad970902d5c18d8",
       "max": 87319819.0,
       "min": 0.0,
       "orientation": "horizontal",
       "style": "IPY_MODEL_a8a8ec91295a4ad0a20d5b89bc4f7f03",
       "value": 87319819.0
      }
     },
     "a8a8ec91295a4ad0a20d5b89bc4f7f03": {
      "model_module": "@jupyter-widgets/controls",
      "model_module_version": "1.5.0",
      "model_name": "ProgressStyleModel",
      "state": {
       "_model_module": "@jupyter-widgets/controls",
       "_model_module_version": "1.5.0",
       "_model_name": "ProgressStyleModel",
       "_view_count": null,
       "_view_module": "@jupyter-widgets/base",
       "_view_module_version": "1.2.0",
       "_view_name": "StyleView",
       "bar_color": null,
       "description_width": ""
      }
     },
     "bc9b81ca60ca482b856104e08fd3040c": {
      "model_module": "@jupyter-widgets/controls",
      "model_module_version": "1.5.0",
      "model_name": "HTMLModel",
      "state": {
       "_dom_classes": [],
       "_model_module": "@jupyter-widgets/controls",
       "_model_module_version": "1.5.0",
       "_model_name": "HTMLModel",
       "_view_count": null,
       "_view_module": "@jupyter-widgets/controls",
       "_view_module_version": "1.5.0",
       "_view_name": "HTMLView",
       "description": "",
       "description_tooltip": null,
       "layout": "IPY_MODEL_43bf2cd28658481dba4a116a7e599e6f",
       "placeholder": "​",
       "style": "IPY_MODEL_ffd7cb447cbd48acb83b36fb38c33d6b",
       "value": "100%"
      }
     },
     "c5b2819f0b8c4200b008f87799d49f7e": {
      "model_module": "@jupyter-widgets/controls",
      "model_module_version": "1.5.0",
      "model_name": "DescriptionStyleModel",
      "state": {
       "_model_module": "@jupyter-widgets/controls",
       "_model_module_version": "1.5.0",
       "_model_name": "DescriptionStyleModel",
       "_view_count": null,
       "_view_module": "@jupyter-widgets/base",
       "_view_module_version": "1.2.0",
       "_view_name": "StyleView",
       "description_width": ""
      }
     },
     "deee6f4e84904faeb68813527db1e0db": {
      "model_module": "@jupyter-widgets/controls",
      "model_module_version": "1.5.0",
      "model_name": "HTMLModel",
      "state": {
       "_dom_classes": [],
       "_model_module": "@jupyter-widgets/controls",
       "_model_module_version": "1.5.0",
       "_model_name": "HTMLModel",
       "_view_count": null,
       "_view_module": "@jupyter-widgets/controls",
       "_view_module_version": "1.5.0",
       "_view_name": "HTMLView",
       "description": "",
       "description_tooltip": null,
       "layout": "IPY_MODEL_4c4ad4060a644cccba8267fb2c9660aa",
       "placeholder": "​",
       "style": "IPY_MODEL_c5b2819f0b8c4200b008f87799d49f7e",
       "value": " 83.3M/83.3M [00:00&lt;00:00, 227MB/s]"
      }
     },
     "ffd7cb447cbd48acb83b36fb38c33d6b": {
      "model_module": "@jupyter-widgets/controls",
      "model_module_version": "1.5.0",
      "model_name": "DescriptionStyleModel",
      "state": {
       "_model_module": "@jupyter-widgets/controls",
       "_model_module_version": "1.5.0",
       "_model_name": "DescriptionStyleModel",
       "_view_count": null,
       "_view_module": "@jupyter-widgets/base",
       "_view_module_version": "1.2.0",
       "_view_name": "StyleView",
       "description_width": ""
      }
     }
    },
    "version_major": 2,
    "version_minor": 0
   }
  }
 },
 "nbformat": 4,
 "nbformat_minor": 5
}
