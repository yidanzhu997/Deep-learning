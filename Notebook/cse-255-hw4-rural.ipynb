{
 "cells": [
  {
   "cell_type": "markdown",
   "id": "4c13051f",
   "metadata": {
    "papermill": {
     "duration": 0.006873,
     "end_time": "2022-06-08T01:53:50.351427",
     "exception": false,
     "start_time": "2022-06-08T01:53:50.344554",
     "status": "completed"
    },
    "tags": []
   },
   "source": [
    "## Reading table"
   ]
  },
  {
   "cell_type": "code",
   "execution_count": 1,
   "id": "0817e56e",
   "metadata": {
    "_cell_guid": "b1076dfc-b9ad-4769-8c92-a6c4dae69d19",
    "_uuid": "8f2839f25d086af736a60e9eeb907d3b93b6e0e5",
    "execution": {
     "iopub.execute_input": "2022-06-08T01:53:50.364817Z",
     "iopub.status.busy": "2022-06-08T01:53:50.363794Z",
     "iopub.status.idle": "2022-06-08T01:53:52.351678Z",
     "shell.execute_reply": "2022-06-08T01:53:52.350829Z"
    },
    "papermill": {
     "duration": 1.996694,
     "end_time": "2022-06-08T01:53:52.353649",
     "exception": false,
     "start_time": "2022-06-08T01:53:50.356955",
     "status": "completed"
    },
    "tags": []
   },
   "outputs": [
    {
     "data": {
      "text/html": [
       "<div>\n",
       "<style scoped>\n",
       "    .dataframe tbody tr th:only-of-type {\n",
       "        vertical-align: middle;\n",
       "    }\n",
       "\n",
       "    .dataframe tbody tr th {\n",
       "        vertical-align: top;\n",
       "    }\n",
       "\n",
       "    .dataframe thead th {\n",
       "        text-align: right;\n",
       "    }\n",
       "</style>\n",
       "<table border=\"1\" class=\"dataframe\">\n",
       "  <thead>\n",
       "    <tr style=\"text-align: right;\">\n",
       "      <th></th>\n",
       "      <th>filename</th>\n",
       "      <th>country</th>\n",
       "      <th>wealthpooled</th>\n",
       "      <th>urban</th>\n",
       "      <th>label</th>\n",
       "      <th>nl_mean</th>\n",
       "    </tr>\n",
       "  </thead>\n",
       "  <tbody>\n",
       "    <tr>\n",
       "      <th>0</th>\n",
       "      <td>image14517.npz</td>\n",
       "      <td>6</td>\n",
       "      <td>-1.019361</td>\n",
       "      <td>False</td>\n",
       "      <td>0</td>\n",
       "      <td>-0.086633</td>\n",
       "    </tr>\n",
       "    <tr>\n",
       "      <th>2</th>\n",
       "      <td>image7407.npz</td>\n",
       "      <td>6</td>\n",
       "      <td>-1.143002</td>\n",
       "      <td>False</td>\n",
       "      <td>0</td>\n",
       "      <td>-0.141589</td>\n",
       "    </tr>\n",
       "    <tr>\n",
       "      <th>13</th>\n",
       "      <td>image18643.npz</td>\n",
       "      <td>6</td>\n",
       "      <td>-0.955533</td>\n",
       "      <td>False</td>\n",
       "      <td>0</td>\n",
       "      <td>-0.173862</td>\n",
       "    </tr>\n",
       "    <tr>\n",
       "      <th>19</th>\n",
       "      <td>image13449.npz</td>\n",
       "      <td>6</td>\n",
       "      <td>0.158699</td>\n",
       "      <td>False</td>\n",
       "      <td>1</td>\n",
       "      <td>0.913758</td>\n",
       "    </tr>\n",
       "    <tr>\n",
       "      <th>21</th>\n",
       "      <td>image5255.npz</td>\n",
       "      <td>6</td>\n",
       "      <td>-1.149296</td>\n",
       "      <td>False</td>\n",
       "      <td>0</td>\n",
       "      <td>-0.036045</td>\n",
       "    </tr>\n",
       "    <tr>\n",
       "      <th>...</th>\n",
       "      <td>...</td>\n",
       "      <td>...</td>\n",
       "      <td>...</td>\n",
       "      <td>...</td>\n",
       "      <td>...</td>\n",
       "      <td>...</td>\n",
       "    </tr>\n",
       "    <tr>\n",
       "      <th>19651</th>\n",
       "      <td>image13672.npz</td>\n",
       "      <td>8</td>\n",
       "      <td>0.284203</td>\n",
       "      <td>False</td>\n",
       "      <td>1</td>\n",
       "      <td>-0.216665</td>\n",
       "    </tr>\n",
       "    <tr>\n",
       "      <th>19652</th>\n",
       "      <td>image19234.npz</td>\n",
       "      <td>8</td>\n",
       "      <td>-0.183867</td>\n",
       "      <td>False</td>\n",
       "      <td>1</td>\n",
       "      <td>-0.186854</td>\n",
       "    </tr>\n",
       "    <tr>\n",
       "      <th>19659</th>\n",
       "      <td>image13328.npz</td>\n",
       "      <td>8</td>\n",
       "      <td>0.047057</td>\n",
       "      <td>False</td>\n",
       "      <td>1</td>\n",
       "      <td>-0.216885</td>\n",
       "    </tr>\n",
       "    <tr>\n",
       "      <th>19661</th>\n",
       "      <td>image2309.npz</td>\n",
       "      <td>8</td>\n",
       "      <td>0.244931</td>\n",
       "      <td>False</td>\n",
       "      <td>1</td>\n",
       "      <td>-0.207048</td>\n",
       "    </tr>\n",
       "    <tr>\n",
       "      <th>19662</th>\n",
       "      <td>image16557.npz</td>\n",
       "      <td>8</td>\n",
       "      <td>0.952855</td>\n",
       "      <td>False</td>\n",
       "      <td>1</td>\n",
       "      <td>-0.202403</td>\n",
       "    </tr>\n",
       "  </tbody>\n",
       "</table>\n",
       "<p>7236 rows × 6 columns</p>\n",
       "</div>"
      ],
      "text/plain": [
       "             filename  country  wealthpooled  urban  label   nl_mean\n",
       "0      image14517.npz        6     -1.019361  False      0 -0.086633\n",
       "2       image7407.npz        6     -1.143002  False      0 -0.141589\n",
       "13     image18643.npz        6     -0.955533  False      0 -0.173862\n",
       "19     image13449.npz        6      0.158699  False      1  0.913758\n",
       "21      image5255.npz        6     -1.149296  False      0 -0.036045\n",
       "...               ...      ...           ...    ...    ...       ...\n",
       "19651  image13672.npz        8      0.284203  False      1 -0.216665\n",
       "19652  image19234.npz        8     -0.183867  False      1 -0.186854\n",
       "19659  image13328.npz        8      0.047057  False      1 -0.216885\n",
       "19661   image2309.npz        8      0.244931  False      1 -0.207048\n",
       "19662  image16557.npz        8      0.952855  False      1 -0.202403\n",
       "\n",
       "[7236 rows x 6 columns]"
      ]
     },
     "execution_count": 1,
     "metadata": {},
     "output_type": "execute_result"
    }
   ],
   "source": [
    "import csv\n",
    "import os\n",
    "import numpy as np\n",
    "from PIL import Image\n",
    "import torch\n",
    "import pandas as pd\n",
    "\n",
    "train_csv_path = '/kaggle/input/cse-255-hw4-table/train.csv'\n",
    "image_path = '/kaggle/input/cse-255-hw4-image/anon_images/'\n",
    "\n",
    "train_csv_df = pd.read_csv(train_csv_path, index_col=0)\n",
    "train_csv_df_urban = train_csv_df.loc[train_csv_df['urban']==True]\n",
    "train_csv_df_rural = train_csv_df.loc[train_csv_df['urban']==False]\n",
    "train_csv_df_rural"
   ]
  },
  {
   "cell_type": "code",
   "execution_count": 2,
   "id": "614a9bf2",
   "metadata": {
    "execution": {
     "iopub.execute_input": "2022-06-08T01:53:52.368220Z",
     "iopub.status.busy": "2022-06-08T01:53:52.367819Z",
     "iopub.status.idle": "2022-06-08T01:53:53.180291Z",
     "shell.execute_reply": "2022-06-08T01:53:53.179499Z"
    },
    "papermill": {
     "duration": 0.822223,
     "end_time": "2022-06-08T01:53:53.182315",
     "exception": false,
     "start_time": "2022-06-08T01:53:52.360092",
     "status": "completed"
    },
    "tags": []
   },
   "outputs": [],
   "source": [
    "from sklearn.model_selection import train_test_split\n",
    "train_rural_indices, valid_rural_indices = train_test_split(range(len(train_csv_df_rural)), train_size=0.9)"
   ]
  },
  {
   "cell_type": "code",
   "execution_count": 3,
   "id": "549e9941",
   "metadata": {
    "execution": {
     "iopub.execute_input": "2022-06-08T01:53:53.196157Z",
     "iopub.status.busy": "2022-06-08T01:53:53.195416Z",
     "iopub.status.idle": "2022-06-08T01:53:53.202795Z",
     "shell.execute_reply": "2022-06-08T01:53:53.202142Z"
    },
    "papermill": {
     "duration": 0.016276,
     "end_time": "2022-06-08T01:53:53.204572",
     "exception": false,
     "start_time": "2022-06-08T01:53:53.188296",
     "status": "completed"
    },
    "tags": []
   },
   "outputs": [],
   "source": [
    "training_set = train_csv_df_rural.iloc[train_rural_indices]\n",
    "validation_set = train_csv_df_rural.iloc[valid_rural_indices]"
   ]
  },
  {
   "cell_type": "markdown",
   "id": "5f8d399d",
   "metadata": {
    "papermill": {
     "duration": 0.005761,
     "end_time": "2022-06-08T01:53:53.216354",
     "exception": false,
     "start_time": "2022-06-08T01:53:53.210593",
     "status": "completed"
    },
    "tags": []
   },
   "source": [
    "## Reading image"
   ]
  },
  {
   "cell_type": "code",
   "execution_count": 4,
   "id": "f34880b5",
   "metadata": {
    "execution": {
     "iopub.execute_input": "2022-06-08T01:53:53.228742Z",
     "iopub.status.busy": "2022-06-08T01:53:53.228485Z",
     "iopub.status.idle": "2022-06-08T01:53:59.313914Z",
     "shell.execute_reply": "2022-06-08T01:53:59.313044Z"
    },
    "papermill": {
     "duration": 6.093916,
     "end_time": "2022-06-08T01:53:59.315994",
     "exception": false,
     "start_time": "2022-06-08T01:53:53.222078",
     "status": "completed"
    },
    "tags": []
   },
   "outputs": [],
   "source": [
    "import os\n",
    "import random\n",
    "import numpy as np\n",
    "import pandas as pd\n",
    "import torch\n",
    "from tqdm import tqdm\n",
    "from torch.utils.data import Dataset, DataLoader\n",
    "import pytorch_lightning as pl\n",
    "from sklearn.model_selection import train_test_split\n",
    "from PIL import Image\n",
    "# PIL_image = Image.fromarray(ndarray_image)\n",
    "\n",
    "class WildsDataset(Dataset):    \n",
    "    def __init__(self, csv_df, mode = \"train\", transform=None):\n",
    "        self.mode = mode\n",
    "        self.transform = transform\n",
    "        self.data_list = []\n",
    "        self.label = []\n",
    "        \n",
    "        for index, row in csv_df.iterrows():\n",
    "            self.data_list.append(image_path+row['filename'])\n",
    "            if self.mode != 'test':\n",
    "                self.label.append(row['label'])\n",
    "        \n",
    "    def __len__(self):\n",
    "        return len(self.data_list)\n",
    "    \n",
    "    def __getitem__(self, idx):\n",
    "        if torch.is_tensor(idx):\n",
    "            idx = idx.tolist()\n",
    "            \n",
    "        image = np.load(self.data_list[idx])\n",
    "        image = image.f.x\n",
    "        image = torch.from_numpy(image)\n",
    "#         print(type(image))\n",
    "#         print(image)\n",
    "        if self.transform is not None:\n",
    "            image = self.transform(image)\n",
    "        if self.mode == 'test': \n",
    "            return image\n",
    "        label = torch.tensor(int(self.label[idx]))\n",
    "            \n",
    "        return image, label\n",
    "\n"
   ]
  },
  {
   "cell_type": "markdown",
   "id": "f8bc8cba",
   "metadata": {
    "papermill": {
     "duration": 0.005908,
     "end_time": "2022-06-08T01:53:59.327928",
     "exception": false,
     "start_time": "2022-06-08T01:53:59.322020",
     "status": "completed"
    },
    "tags": []
   },
   "source": [
    "## Define Transform"
   ]
  },
  {
   "cell_type": "code",
   "execution_count": 5,
   "id": "270d9c13",
   "metadata": {
    "execution": {
     "iopub.execute_input": "2022-06-08T01:53:59.343312Z",
     "iopub.status.busy": "2022-06-08T01:53:59.342448Z",
     "iopub.status.idle": "2022-06-08T01:53:59.359525Z",
     "shell.execute_reply": "2022-06-08T01:53:59.358408Z"
    },
    "papermill": {
     "duration": 0.027747,
     "end_time": "2022-06-08T01:53:59.361566",
     "exception": false,
     "start_time": "2022-06-08T01:53:59.333819",
     "status": "completed"
    },
    "tags": []
   },
   "outputs": [],
   "source": [
    "import torchvision.transforms.functional as TF\n",
    "import random\n",
    "\n",
    "class TrainTransform:\n",
    "    \"\"\"Rotate by one of the given angles.\"\"\"\n",
    "\n",
    "    def __init__(self):\n",
    "        self.angles = [-270, -180, -90, 0, 90, 180, 270]\n",
    "        self.maxsize = [i for i in range(256,272)]\n",
    "        self.boolean = [True, False]\n",
    "\n",
    "    def __call__(self, x):\n",
    "        angle = random.choice(self.angles)\n",
    "        size = random.choice(self.maxsize)\n",
    "        image = x\n",
    "        image = TF.rotate(image, angle) #Rotation \n",
    "        image = TF.resize(image,size) #Resize\n",
    "        image = TF.center_crop(image, 224) #Center Crop\n",
    "        if random.choice(self.boolean):\n",
    "            image = TF.vflip(image)\n",
    "        if random.choice(self.boolean):\n",
    "            image = TF.hflip(image)\n",
    "#         print(image.shape)\n",
    "#         print(torch.mean(image, dim = (1, 2)).shape)\n",
    "#         print(torch.std(image.to(torch.double), dim = (1, 2), unbiased = True))\n",
    "#         image = TF.normalize(image, mean=torch.mean(image, dim = (1, 2)), std = [0.5]*8)\n",
    "        return image\n",
    "\n",
    "class TestTransform:\n",
    "    \"\"\"Rotate by one of the given angles.\"\"\"\n",
    "\n",
    "    def __init__(self):\n",
    "        self.angles = [-270, -180, -90, 0, 90, 180, 270]\n",
    "        self.maxsize = [i for i in range(256,272)]\n",
    "        self.boolean = [True, False]\n",
    "\n",
    "    def __call__(self, x):\n",
    "        angle = random.choice(self.angles)\n",
    "        size = random.choice(self.maxsize)\n",
    "        image = x\n",
    "#         image = TF.normalize(image, mean=torch.mean(image, dim = (1, 2)), std = [0.5]*8)\n",
    "        return image\n",
    "    "
   ]
  },
  {
   "cell_type": "code",
   "execution_count": 6,
   "id": "bfa9adf1",
   "metadata": {
    "execution": {
     "iopub.execute_input": "2022-06-08T01:53:59.374748Z",
     "iopub.status.busy": "2022-06-08T01:53:59.374109Z",
     "iopub.status.idle": "2022-06-08T01:53:59.720821Z",
     "shell.execute_reply": "2022-06-08T01:53:59.720014Z"
    },
    "papermill": {
     "duration": 0.355201,
     "end_time": "2022-06-08T01:53:59.722825",
     "exception": false,
     "start_time": "2022-06-08T01:53:59.367624",
     "status": "completed"
    },
    "tags": []
   },
   "outputs": [],
   "source": [
    "dataset_train = WildsDataset(training_set, mode='train', transform = TrainTransform())\n",
    "dataset_val = WildsDataset(validation_set, mode='val', transform = TestTransform())"
   ]
  },
  {
   "cell_type": "code",
   "execution_count": 7,
   "id": "24580a5e",
   "metadata": {
    "execution": {
     "iopub.execute_input": "2022-06-08T01:53:59.735909Z",
     "iopub.status.busy": "2022-06-08T01:53:59.735597Z",
     "iopub.status.idle": "2022-06-08T01:53:59.740085Z",
     "shell.execute_reply": "2022-06-08T01:53:59.739289Z"
    },
    "papermill": {
     "duration": 0.012954,
     "end_time": "2022-06-08T01:53:59.741733",
     "exception": false,
     "start_time": "2022-06-08T01:53:59.728779",
     "status": "completed"
    },
    "tags": []
   },
   "outputs": [],
   "source": [
    "from torch.utils.data import DataLoader\n",
    "\n",
    "train_loader = DataLoader(dataset_train, batch_size=128, shuffle=True)\n",
    "val_loader = DataLoader(dataset_val, batch_size=128, shuffle=False)"
   ]
  },
  {
   "cell_type": "markdown",
   "id": "e660650f",
   "metadata": {
    "papermill": {
     "duration": 0.005376,
     "end_time": "2022-06-08T01:53:59.752610",
     "exception": false,
     "start_time": "2022-06-08T01:53:59.747234",
     "status": "completed"
    },
    "tags": []
   },
   "source": [
    "## Define Model"
   ]
  },
  {
   "cell_type": "code",
   "execution_count": 8,
   "id": "e02b180d",
   "metadata": {
    "execution": {
     "iopub.execute_input": "2022-06-08T01:53:59.765125Z",
     "iopub.status.busy": "2022-06-08T01:53:59.764412Z",
     "iopub.status.idle": "2022-06-08T01:53:59.773260Z",
     "shell.execute_reply": "2022-06-08T01:53:59.772597Z"
    },
    "papermill": {
     "duration": 0.016669,
     "end_time": "2022-06-08T01:53:59.774812",
     "exception": false,
     "start_time": "2022-06-08T01:53:59.758143",
     "status": "completed"
    },
    "tags": []
   },
   "outputs": [],
   "source": [
    "import torch\n",
    "import torch.nn as nn\n",
    "import torch.nn.functional as F\n",
    "import torch.optim as optim\n",
    "from torch.utils.data import DataLoader, Dataset\n",
    "from torch.utils.data import RandomSampler\n",
    "from torch.utils.data import TensorDataset\n",
    "from torchvision.utils import make_grid\n",
    "import torchvision.models as models\n",
    "\n",
    "class Net(nn.Module):\n",
    "    def __init__(self):\n",
    "        super().__init__()\n",
    "\n",
    "        model_ft = models.resnet34(pretrained=True)\n",
    "#         model_ft.aux_logits = False \n",
    "        model_ft.conv1 = nn.Conv2d(8, 64, kernel_size=7, stride=2, padding = 3,bias=False)\n",
    "        num_ftrs = model_ft.fc.in_features\n",
    "        model_ft.fc = nn.Linear(num_ftrs, 128)\n",
    "        \n",
    "        self.pretrain_model = model_ft \n",
    "        self.category = nn.Sequential(\n",
    "            nn.Linear(128,32),\n",
    "            nn.Dropout(0.5),\n",
    "            nn.Linear(32,8),\n",
    "            nn.Dropout(0.5),\n",
    "            nn.Linear(8,2)\n",
    "        )\n",
    "    def forward(self, x):\n",
    "        x = self.pretrain_model(x)\n",
    "#         print(type(x))\n",
    "        category = self.category(x)\n",
    "        \n",
    "        return category"
   ]
  },
  {
   "cell_type": "code",
   "execution_count": 9,
   "id": "6607abce",
   "metadata": {
    "execution": {
     "iopub.execute_input": "2022-06-08T01:53:59.787389Z",
     "iopub.status.busy": "2022-06-08T01:53:59.786832Z",
     "iopub.status.idle": "2022-06-08T01:54:12.640606Z",
     "shell.execute_reply": "2022-06-08T01:54:12.639741Z"
    },
    "papermill": {
     "duration": 12.862361,
     "end_time": "2022-06-08T01:54:12.642779",
     "exception": false,
     "start_time": "2022-06-08T01:53:59.780418",
     "status": "completed"
    },
    "tags": []
   },
   "outputs": [
    {
     "name": "stderr",
     "output_type": "stream",
     "text": [
      "Downloading: \"https://download.pytorch.org/models/resnet34-b627a593.pth\" to /root/.cache/torch/hub/checkpoints/resnet34-b627a593.pth\n"
     ]
    },
    {
     "data": {
      "application/vnd.jupyter.widget-view+json": {
       "model_id": "d0b5f04fa11748b9bcd5ec79075d6a2e",
       "version_major": 2,
       "version_minor": 0
      },
      "text/plain": [
       "  0%|          | 0.00/83.3M [00:00<?, ?B/s]"
      ]
     },
     "metadata": {},
     "output_type": "display_data"
    }
   ],
   "source": [
    "model = Net()\n",
    "model = model.cuda()"
   ]
  },
  {
   "cell_type": "markdown",
   "id": "41cdb29c",
   "metadata": {
    "papermill": {
     "duration": 0.005681,
     "end_time": "2022-06-08T01:54:12.654748",
     "exception": false,
     "start_time": "2022-06-08T01:54:12.649067",
     "status": "completed"
    },
    "tags": []
   },
   "source": [
    "## Freeze layers for fine tune"
   ]
  },
  {
   "cell_type": "code",
   "execution_count": 10,
   "id": "55bdcda3",
   "metadata": {
    "execution": {
     "iopub.execute_input": "2022-06-08T01:54:12.668324Z",
     "iopub.status.busy": "2022-06-08T01:54:12.668018Z",
     "iopub.status.idle": "2022-06-08T01:54:12.671425Z",
     "shell.execute_reply": "2022-06-08T01:54:12.670706Z"
    },
    "papermill": {
     "duration": 0.012322,
     "end_time": "2022-06-08T01:54:12.673151",
     "exception": false,
     "start_time": "2022-06-08T01:54:12.660829",
     "status": "completed"
    },
    "tags": []
   },
   "outputs": [],
   "source": [
    "# i = 0\n",
    "# for param in model.parameters():\n",
    "#     if i<46:\n",
    "#         param.requires_grad = False\n",
    "#     i += 1"
   ]
  },
  {
   "cell_type": "code",
   "execution_count": 11,
   "id": "9c7b2f70",
   "metadata": {
    "execution": {
     "iopub.execute_input": "2022-06-08T01:54:12.686017Z",
     "iopub.status.busy": "2022-06-08T01:54:12.685353Z",
     "iopub.status.idle": "2022-06-08T01:54:12.689370Z",
     "shell.execute_reply": "2022-06-08T01:54:12.688545Z"
    },
    "papermill": {
     "duration": 0.012235,
     "end_time": "2022-06-08T01:54:12.691103",
     "exception": false,
     "start_time": "2022-06-08T01:54:12.678868",
     "status": "completed"
    },
    "tags": []
   },
   "outputs": [],
   "source": [
    "# for name,param in model.named_parameters():\n",
    "#     if param.requires_grad == True:\n",
    "#         print(\"\\t\",name)"
   ]
  },
  {
   "cell_type": "markdown",
   "id": "c448d92b",
   "metadata": {
    "papermill": {
     "duration": 0.005676,
     "end_time": "2022-06-08T01:54:12.702922",
     "exception": false,
     "start_time": "2022-06-08T01:54:12.697246",
     "status": "completed"
    },
    "tags": []
   },
   "source": [
    "## Criterion and Optimizer"
   ]
  },
  {
   "cell_type": "code",
   "execution_count": 12,
   "id": "39e7ad5e",
   "metadata": {
    "execution": {
     "iopub.execute_input": "2022-06-08T01:54:12.715411Z",
     "iopub.status.busy": "2022-06-08T01:54:12.715138Z",
     "iopub.status.idle": "2022-06-08T01:54:12.720871Z",
     "shell.execute_reply": "2022-06-08T01:54:12.720050Z"
    },
    "papermill": {
     "duration": 0.014131,
     "end_time": "2022-06-08T01:54:12.722751",
     "exception": false,
     "start_time": "2022-06-08T01:54:12.708620",
     "status": "completed"
    },
    "tags": []
   },
   "outputs": [],
   "source": [
    "import torch.nn as nn\n",
    "import torch.optim as optim\n",
    "\n",
    "criterion = nn.CrossEntropyLoss()\n",
    "# criterion = nn.HingeEmbeddingLoss()\n",
    "optimizer = torch.optim.SGD(params=model.parameters(), lr=0.01, momentum=0.9) # throw param into optimizer some_optimier(param, lr=...)\n",
    "# optimizer = torch.optim.Adam(params = model.parameters(), lr=1e-03, betas=(0.9, 0.999), eps=1e-08, weight_decay=0.01, amsgrad=False)\n",
    "# optimizer = torch.optim.AdamW(params = model.parameters(), lr=1e-02, betas=(0.9, 0.999), eps=1e-08, weight_decay=0.05, amsgrad=False)\n",
    "# optimizer = torch.optim.RMSprop(params = model.parameters(), lr=1e-02, alpha = 0.9, momentum=0.9)\n",
    "criterion = criterion.cuda()"
   ]
  },
  {
   "cell_type": "markdown",
   "id": "f2580bca",
   "metadata": {
    "papermill": {
     "duration": 0.005538,
     "end_time": "2022-06-08T01:54:12.733978",
     "exception": false,
     "start_time": "2022-06-08T01:54:12.728440",
     "status": "completed"
    },
    "tags": []
   },
   "source": [
    "## Train Function"
   ]
  },
  {
   "cell_type": "code",
   "execution_count": 13,
   "id": "a5b45e80",
   "metadata": {
    "execution": {
     "iopub.execute_input": "2022-06-08T01:54:12.747765Z",
     "iopub.status.busy": "2022-06-08T01:54:12.747037Z",
     "iopub.status.idle": "2022-06-08T01:54:12.755914Z",
     "shell.execute_reply": "2022-06-08T01:54:12.755211Z"
    },
    "papermill": {
     "duration": 0.017531,
     "end_time": "2022-06-08T01:54:12.757533",
     "exception": false,
     "start_time": "2022-06-08T01:54:12.740002",
     "status": "completed"
    },
    "tags": []
   },
   "outputs": [],
   "source": [
    "def train(input_data, model, criterion, optimizer, transform = None):\n",
    "    '''\n",
    "    Argement:\n",
    "    input_data -- iterable data, typr torch.utils.data.Dataloader is prefer\n",
    "    model -- nn.Module, model contain forward to predict output\n",
    "    criterion -- loss function, used to evaluate goodness of model\n",
    "    optimizer -- optmizer function, method for weight updating\n",
    "    '''\n",
    "    model.train()\n",
    "    loss_list = []\n",
    "    total_count = 0\n",
    "    acc_count = 0\n",
    "    pbar = tqdm(input_data)\n",
    "    for data in pbar:\n",
    "        pbar.set_description(\"Training\")\n",
    "        images, labels = data[0].cuda(), data[1].cuda()\n",
    "        if transform:\n",
    "            images = transform(images)\n",
    "        optimizer.zero_grad()\n",
    "        outputs = model(images)\n",
    "        loss = criterion(outputs, labels)\n",
    "        loss.backward()\n",
    "        optimizer.step() \n",
    "        \n",
    "        _, predicted = torch.max(outputs.data, 1)\n",
    "        total_count += labels.size(0) \n",
    "        acc_count += (predicted == labels).sum()  \n",
    "        loss_list.append(loss.item())\n",
    "\n",
    "\n",
    "    # Compute this epoch accuracy and loss\n",
    "    acc = acc_count / total_count\n",
    "    loss = sum(loss_list) / len(loss_list)\n",
    "    return acc, loss"
   ]
  },
  {
   "cell_type": "markdown",
   "id": "58dfe6be",
   "metadata": {
    "papermill": {
     "duration": 0.005677,
     "end_time": "2022-06-08T01:54:12.769115",
     "exception": false,
     "start_time": "2022-06-08T01:54:12.763438",
     "status": "completed"
    },
    "tags": []
   },
   "source": [
    "## Validation Function"
   ]
  },
  {
   "cell_type": "code",
   "execution_count": 14,
   "id": "995eb694",
   "metadata": {
    "execution": {
     "iopub.execute_input": "2022-06-08T01:54:12.782496Z",
     "iopub.status.busy": "2022-06-08T01:54:12.782217Z",
     "iopub.status.idle": "2022-06-08T01:54:12.789481Z",
     "shell.execute_reply": "2022-06-08T01:54:12.788716Z"
    },
    "papermill": {
     "duration": 0.016041,
     "end_time": "2022-06-08T01:54:12.791046",
     "exception": false,
     "start_time": "2022-06-08T01:54:12.775005",
     "status": "completed"
    },
    "tags": []
   },
   "outputs": [],
   "source": [
    "def val(input_data, model, criterion, transform = None):\n",
    "    model.eval()\n",
    "    \n",
    "    loss_list = []\n",
    "    total_count = 0\n",
    "    acc_count = 0\n",
    "    with torch.no_grad():\n",
    "        pbar = tqdm(input_data)\n",
    "        for data in pbar:\n",
    "            pbar.set_description(\"Validation\")\n",
    "            images, labels = data[0].cuda(), data[1].cuda()\n",
    "            if transform:\n",
    "                transform(images)\n",
    "            outputs = model(images)\n",
    "            loss = criterion(outputs, labels)\n",
    "            _, predicted = torch.max(outputs.data, dim=1)\n",
    "            total_count += labels.size(0)\n",
    "            acc_count += (predicted == labels).sum()\n",
    "            loss_list.append(loss.item())\n",
    "\n",
    "    acc = acc_count / total_count\n",
    "    loss = sum(loss_list) / len(loss_list)\n",
    "    return acc, loss"
   ]
  },
  {
   "cell_type": "markdown",
   "id": "30439a2a",
   "metadata": {
    "papermill": {
     "duration": 0.005536,
     "end_time": "2022-06-08T01:54:12.802742",
     "exception": false,
     "start_time": "2022-06-08T01:54:12.797206",
     "status": "completed"
    },
    "tags": []
   },
   "source": [
    "## Start training"
   ]
  },
  {
   "cell_type": "code",
   "execution_count": 15,
   "id": "1c625f63",
   "metadata": {
    "execution": {
     "iopub.execute_input": "2022-06-08T01:54:12.815409Z",
     "iopub.status.busy": "2022-06-08T01:54:12.814797Z",
     "iopub.status.idle": "2022-06-08T01:54:13.580135Z",
     "shell.execute_reply": "2022-06-08T01:54:13.578966Z"
    },
    "papermill": {
     "duration": 0.774494,
     "end_time": "2022-06-08T01:54:13.582926",
     "exception": false,
     "start_time": "2022-06-08T01:54:12.808432",
     "status": "completed"
    },
    "tags": []
   },
   "outputs": [],
   "source": [
    "!cp -r ../input/earlystopping/early-stopping-pytorch-master/* ./\n",
    "from pytorchtools import EarlyStopping"
   ]
  },
  {
   "cell_type": "code",
   "execution_count": 16,
   "id": "c1d45f5a",
   "metadata": {
    "execution": {
     "iopub.execute_input": "2022-06-08T01:54:13.605460Z",
     "iopub.status.busy": "2022-06-08T01:54:13.605081Z",
     "iopub.status.idle": "2022-06-08T03:31:09.169936Z",
     "shell.execute_reply": "2022-06-08T03:31:09.169175Z"
    },
    "papermill": {
     "duration": 5815.877332,
     "end_time": "2022-06-08T03:31:09.470921",
     "exception": false,
     "start_time": "2022-06-08T01:54:13.593589",
     "status": "completed"
    },
    "tags": []
   },
   "outputs": [
    {
     "name": "stderr",
     "output_type": "stream",
     "text": [
      "Training: 100%|██████████| 51/51 [03:17<00:00,  3.87s/it]\n",
      "Validation: 100%|██████████| 6/6 [00:17<00:00,  2.92s/it]\n"
     ]
    },
    {
     "name": "stdout",
     "output_type": "stream",
     "text": [
      "==================== Epoch 1 ====================\n",
      "Train Acc: 0.603655 Train Loss: 0.665520\n",
      "  Val Acc: 0.649171   Val Loss: 0.614975\n",
      "Validation loss decreased (inf --> -0.649171).  Saving model ...\n"
     ]
    },
    {
     "name": "stderr",
     "output_type": "stream",
     "text": [
      "Training: 100%|██████████| 51/51 [01:45<00:00,  2.07s/it]\n",
      "Validation: 100%|██████████| 6/6 [00:08<00:00,  1.36s/it]\n"
     ]
    },
    {
     "name": "stdout",
     "output_type": "stream",
     "text": [
      "==================== Epoch 2 ====================\n",
      "Train Acc: 0.670455 Train Loss: 0.612412\n",
      "  Val Acc: 0.683702   Val Loss: 0.602995\n",
      "Validation loss decreased (-0.649171 --> -0.683702).  Saving model ...\n"
     ]
    },
    {
     "name": "stderr",
     "output_type": "stream",
     "text": [
      "Training: 100%|██████████| 51/51 [01:45<00:00,  2.08s/it]\n",
      "Validation: 100%|██████████| 6/6 [00:08<00:00,  1.39s/it]\n"
     ]
    },
    {
     "name": "stdout",
     "output_type": "stream",
     "text": [
      "==================== Epoch 3 ====================\n",
      "Train Acc: 0.695025 Train Loss: 0.593830\n",
      "  Val Acc: 0.675414   Val Loss: 0.608454\n",
      "EarlyStopping counter: 1 out of 5\n"
     ]
    },
    {
     "name": "stderr",
     "output_type": "stream",
     "text": [
      "Training: 100%|██████████| 51/51 [01:47<00:00,  2.12s/it]\n",
      "Validation: 100%|██████████| 6/6 [00:08<00:00,  1.38s/it]\n"
     ]
    },
    {
     "name": "stdout",
     "output_type": "stream",
     "text": [
      "==================== Epoch 4 ====================\n",
      "Train Acc: 0.714988 Train Loss: 0.578219\n",
      "  Val Acc: 0.718232   Val Loss: 0.560557\n",
      "Validation loss decreased (-0.683702 --> -0.718232).  Saving model ...\n"
     ]
    },
    {
     "name": "stderr",
     "output_type": "stream",
     "text": [
      "Training: 100%|██████████| 51/51 [01:46<00:00,  2.10s/it]\n",
      "Validation: 100%|██████████| 6/6 [00:08<00:00,  1.38s/it]\n"
     ]
    },
    {
     "name": "stdout",
     "output_type": "stream",
     "text": [
      "==================== Epoch 5 ====================\n",
      "Train Acc: 0.718059 Train Loss: 0.560482\n",
      "  Val Acc: 0.700276   Val Loss: 0.572681\n",
      "EarlyStopping counter: 1 out of 5\n"
     ]
    },
    {
     "name": "stderr",
     "output_type": "stream",
     "text": [
      "Training: 100%|██████████| 51/51 [01:45<00:00,  2.06s/it]\n",
      "Validation: 100%|██████████| 6/6 [00:08<00:00,  1.38s/it]\n"
     ]
    },
    {
     "name": "stdout",
     "output_type": "stream",
     "text": [
      "==================== Epoch 6 ====================\n",
      "Train Acc: 0.720362 Train Loss: 0.556618\n",
      "  Val Acc: 0.714088   Val Loss: 0.558336\n",
      "EarlyStopping counter: 2 out of 5\n"
     ]
    },
    {
     "name": "stderr",
     "output_type": "stream",
     "text": [
      "Training: 100%|██████████| 51/51 [01:45<00:00,  2.07s/it]\n",
      "Validation: 100%|██████████| 6/6 [00:08<00:00,  1.39s/it]\n"
     ]
    },
    {
     "name": "stdout",
     "output_type": "stream",
     "text": [
      "==================== Epoch 7 ====================\n",
      "Train Acc: 0.733108 Train Loss: 0.545050\n",
      "  Val Acc: 0.711326   Val Loss: 0.555206\n",
      "EarlyStopping counter: 3 out of 5\n"
     ]
    },
    {
     "name": "stderr",
     "output_type": "stream",
     "text": [
      "Training: 100%|██████████| 51/51 [01:45<00:00,  2.06s/it]\n",
      "Validation: 100%|██████████| 6/6 [00:08<00:00,  1.37s/it]\n"
     ]
    },
    {
     "name": "stdout",
     "output_type": "stream",
     "text": [
      "==================== Epoch 8 ====================\n",
      "Train Acc: 0.742168 Train Loss: 0.540731\n",
      "  Val Acc: 0.709945   Val Loss: 0.551783\n",
      "EarlyStopping counter: 4 out of 5\n"
     ]
    },
    {
     "name": "stderr",
     "output_type": "stream",
     "text": [
      "Training: 100%|██████████| 51/51 [01:44<00:00,  2.05s/it]\n",
      "Validation: 100%|██████████| 6/6 [00:08<00:00,  1.42s/it]\n"
     ]
    },
    {
     "name": "stdout",
     "output_type": "stream",
     "text": [
      "==================== Epoch 9 ====================\n",
      "Train Acc: 0.749539 Train Loss: 0.531515\n",
      "  Val Acc: 0.718232   Val Loss: 0.573021\n",
      "Validation loss decreased (-0.718232 --> -0.718232).  Saving model ...\n"
     ]
    },
    {
     "name": "stderr",
     "output_type": "stream",
     "text": [
      "Training: 100%|██████████| 51/51 [01:45<00:00,  2.07s/it]\n",
      "Validation: 100%|██████████| 6/6 [00:08<00:00,  1.39s/it]\n"
     ]
    },
    {
     "name": "stdout",
     "output_type": "stream",
     "text": [
      "==================== Epoch 10 ====================\n",
      "Train Acc: 0.756603 Train Loss: 0.514131\n",
      "  Val Acc: 0.711326   Val Loss: 0.579417\n",
      "EarlyStopping counter: 1 out of 5\n"
     ]
    },
    {
     "name": "stderr",
     "output_type": "stream",
     "text": [
      "Training: 100%|██████████| 51/51 [01:44<00:00,  2.05s/it]\n",
      "Validation: 100%|██████████| 6/6 [00:08<00:00,  1.42s/it]\n"
     ]
    },
    {
     "name": "stdout",
     "output_type": "stream",
     "text": [
      "==================== Epoch 11 ====================\n",
      "Train Acc: 0.758139 Train Loss: 0.517642\n",
      "  Val Acc: 0.730663   Val Loss: 0.535166\n",
      "Validation loss decreased (-0.718232 --> -0.730663).  Saving model ...\n"
     ]
    },
    {
     "name": "stderr",
     "output_type": "stream",
     "text": [
      "Training: 100%|██████████| 51/51 [01:44<00:00,  2.05s/it]\n",
      "Validation: 100%|██████████| 6/6 [00:08<00:00,  1.38s/it]\n"
     ]
    },
    {
     "name": "stdout",
     "output_type": "stream",
     "text": [
      "==================== Epoch 12 ====================\n",
      "Train Acc: 0.765663 Train Loss: 0.509192\n",
      "  Val Acc: 0.700276   Val Loss: 0.581876\n",
      "EarlyStopping counter: 1 out of 5\n"
     ]
    },
    {
     "name": "stderr",
     "output_type": "stream",
     "text": [
      "Training: 100%|██████████| 51/51 [01:44<00:00,  2.05s/it]\n",
      "Validation: 100%|██████████| 6/6 [00:08<00:00,  1.39s/it]\n"
     ]
    },
    {
     "name": "stdout",
     "output_type": "stream",
     "text": [
      "==================== Epoch 13 ====================\n",
      "Train Acc: 0.769042 Train Loss: 0.493618\n",
      "  Val Acc: 0.709945   Val Loss: 0.564043\n",
      "EarlyStopping counter: 2 out of 5\n"
     ]
    },
    {
     "name": "stderr",
     "output_type": "stream",
     "text": [
      "Training: 100%|██████████| 51/51 [01:44<00:00,  2.05s/it]\n",
      "Validation: 100%|██████████| 6/6 [00:08<00:00,  1.36s/it]\n"
     ]
    },
    {
     "name": "stdout",
     "output_type": "stream",
     "text": [
      "==================== Epoch 14 ====================\n",
      "Train Acc: 0.765049 Train Loss: 0.496537\n",
      "  Val Acc: 0.744475   Val Loss: 0.532901\n",
      "Validation loss decreased (-0.730663 --> -0.744475).  Saving model ...\n"
     ]
    },
    {
     "name": "stderr",
     "output_type": "stream",
     "text": [
      "Training: 100%|██████████| 51/51 [01:45<00:00,  2.06s/it]\n",
      "Validation: 100%|██████████| 6/6 [00:08<00:00,  1.39s/it]\n"
     ]
    },
    {
     "name": "stdout",
     "output_type": "stream",
     "text": [
      "==================== Epoch 15 ====================\n",
      "Train Acc: 0.772727 Train Loss: 0.482900\n",
      "  Val Acc: 0.709945   Val Loss: 0.560116\n",
      "EarlyStopping counter: 1 out of 5\n"
     ]
    },
    {
     "name": "stderr",
     "output_type": "stream",
     "text": [
      "Training: 100%|██████████| 51/51 [01:46<00:00,  2.09s/it]\n",
      "Validation: 100%|██████████| 6/6 [00:08<00:00,  1.36s/it]\n"
     ]
    },
    {
     "name": "stdout",
     "output_type": "stream",
     "text": [
      "==================== Epoch 16 ====================\n",
      "Train Acc: 0.785166 Train Loss: 0.476084\n",
      "  Val Acc: 0.741713   Val Loss: 0.544223\n",
      "EarlyStopping counter: 2 out of 5\n"
     ]
    },
    {
     "name": "stderr",
     "output_type": "stream",
     "text": [
      "Training: 100%|██████████| 51/51 [01:45<00:00,  2.08s/it]\n",
      "Validation: 100%|██████████| 6/6 [00:08<00:00,  1.41s/it]\n"
     ]
    },
    {
     "name": "stdout",
     "output_type": "stream",
     "text": [
      "==================== Epoch 17 ====================\n",
      "Train Acc: 0.781787 Train Loss: 0.468696\n",
      "  Val Acc: 0.712707   Val Loss: 0.574423\n",
      "EarlyStopping counter: 3 out of 5\n"
     ]
    },
    {
     "name": "stderr",
     "output_type": "stream",
     "text": [
      "Training: 100%|██████████| 51/51 [01:48<00:00,  2.13s/it]\n",
      "Validation: 100%|██████████| 6/6 [00:08<00:00,  1.37s/it]\n"
     ]
    },
    {
     "name": "stdout",
     "output_type": "stream",
     "text": [
      "==================== Epoch 18 ====================\n",
      "Train Acc: 0.794994 Train Loss: 0.461912\n",
      "  Val Acc: 0.712707   Val Loss: 0.592928\n",
      "EarlyStopping counter: 4 out of 5\n"
     ]
    },
    {
     "name": "stderr",
     "output_type": "stream",
     "text": [
      "Training: 100%|██████████| 51/51 [01:45<00:00,  2.07s/it]\n",
      "Validation: 100%|██████████| 6/6 [00:08<00:00,  1.48s/it]\n"
     ]
    },
    {
     "name": "stdout",
     "output_type": "stream",
     "text": [
      "==================== Epoch 19 ====================\n",
      "Train Acc: 0.785319 Train Loss: 0.462647\n",
      "  Val Acc: 0.696133   Val Loss: 0.640003\n",
      "EarlyStopping counter: 5 out of 5\n"
     ]
    },
    {
     "name": "stderr",
     "output_type": "stream",
     "text": [
      "Training: 100%|██████████| 51/51 [01:46<00:00,  2.08s/it]\n",
      "Validation: 100%|██████████| 6/6 [00:08<00:00,  1.38s/it]\n"
     ]
    },
    {
     "name": "stdout",
     "output_type": "stream",
     "text": [
      "==================== Epoch 20 ====================\n",
      "Train Acc: 0.791308 Train Loss: 0.461421\n",
      "  Val Acc: 0.716851   Val Loss: 0.559136\n",
      "EarlyStopping counter: 6 out of 5\n"
     ]
    },
    {
     "name": "stderr",
     "output_type": "stream",
     "text": [
      "Training: 100%|██████████| 51/51 [01:47<00:00,  2.10s/it]\n",
      "Validation: 100%|██████████| 6/6 [00:08<00:00,  1.48s/it]\n"
     ]
    },
    {
     "name": "stdout",
     "output_type": "stream",
     "text": [
      "==================== Epoch 21 ====================\n",
      "Train Acc: 0.798833 Train Loss: 0.444753\n",
      "  Val Acc: 0.738950   Val Loss: 0.590746\n",
      "EarlyStopping counter: 7 out of 5\n"
     ]
    },
    {
     "name": "stderr",
     "output_type": "stream",
     "text": [
      "Training: 100%|██████████| 51/51 [01:45<00:00,  2.07s/it]\n",
      "Validation: 100%|██████████| 6/6 [00:08<00:00,  1.40s/it]\n"
     ]
    },
    {
     "name": "stdout",
     "output_type": "stream",
     "text": [
      "==================== Epoch 22 ====================\n",
      "Train Acc: 0.797912 Train Loss: 0.457571\n",
      "  Val Acc: 0.704420   Val Loss: 0.589736\n",
      "EarlyStopping counter: 8 out of 5\n"
     ]
    },
    {
     "name": "stderr",
     "output_type": "stream",
     "text": [
      "Training: 100%|██████████| 51/51 [01:45<00:00,  2.08s/it]\n",
      "Validation: 100%|██████████| 6/6 [00:08<00:00,  1.45s/it]\n"
     ]
    },
    {
     "name": "stdout",
     "output_type": "stream",
     "text": [
      "==================== Epoch 23 ====================\n",
      "Train Acc: 0.808354 Train Loss: 0.425921\n",
      "  Val Acc: 0.714088   Val Loss: 0.621110\n",
      "EarlyStopping counter: 9 out of 5\n"
     ]
    },
    {
     "name": "stderr",
     "output_type": "stream",
     "text": [
      "Training: 100%|██████████| 51/51 [01:45<00:00,  2.06s/it]\n",
      "Validation: 100%|██████████| 6/6 [00:08<00:00,  1.41s/it]\n"
     ]
    },
    {
     "name": "stdout",
     "output_type": "stream",
     "text": [
      "==================== Epoch 24 ====================\n",
      "Train Acc: 0.807125 Train Loss: 0.432825\n",
      "  Val Acc: 0.714088   Val Loss: 0.580299\n",
      "EarlyStopping counter: 10 out of 5\n"
     ]
    },
    {
     "name": "stderr",
     "output_type": "stream",
     "text": [
      "Training: 100%|██████████| 51/51 [01:44<00:00,  2.05s/it]\n",
      "Validation: 100%|██████████| 6/6 [00:08<00:00,  1.38s/it]\n"
     ]
    },
    {
     "name": "stdout",
     "output_type": "stream",
     "text": [
      "==================== Epoch 25 ====================\n",
      "Train Acc: 0.811118 Train Loss: 0.413195\n",
      "  Val Acc: 0.679558   Val Loss: 0.669444\n",
      "EarlyStopping counter: 11 out of 5\n"
     ]
    },
    {
     "name": "stderr",
     "output_type": "stream",
     "text": [
      "Training: 100%|██████████| 51/51 [01:45<00:00,  2.06s/it]\n",
      "Validation: 100%|██████████| 6/6 [00:08<00:00,  1.36s/it]\n"
     ]
    },
    {
     "name": "stdout",
     "output_type": "stream",
     "text": [
      "==================== Epoch 26 ====================\n",
      "Train Acc: 0.810504 Train Loss: 0.421987\n",
      "  Val Acc: 0.707182   Val Loss: 0.645737\n",
      "EarlyStopping counter: 12 out of 5\n"
     ]
    },
    {
     "name": "stderr",
     "output_type": "stream",
     "text": [
      "Training: 100%|██████████| 51/51 [01:44<00:00,  2.06s/it]\n",
      "Validation: 100%|██████████| 6/6 [00:08<00:00,  1.38s/it]\n"
     ]
    },
    {
     "name": "stdout",
     "output_type": "stream",
     "text": [
      "==================== Epoch 27 ====================\n",
      "Train Acc: 0.825399 Train Loss: 0.404824\n",
      "  Val Acc: 0.732044   Val Loss: 0.608487\n",
      "EarlyStopping counter: 13 out of 5\n"
     ]
    },
    {
     "name": "stderr",
     "output_type": "stream",
     "text": [
      "Training: 100%|██████████| 51/51 [01:45<00:00,  2.08s/it]\n",
      "Validation: 100%|██████████| 6/6 [00:08<00:00,  1.40s/it]\n"
     ]
    },
    {
     "name": "stdout",
     "output_type": "stream",
     "text": [
      "==================== Epoch 28 ====================\n",
      "Train Acc: 0.816032 Train Loss: 0.408637\n",
      "  Val Acc: 0.701657   Val Loss: 0.632030\n",
      "EarlyStopping counter: 14 out of 5\n"
     ]
    },
    {
     "name": "stderr",
     "output_type": "stream",
     "text": [
      "Training: 100%|██████████| 51/51 [01:45<00:00,  2.07s/it]\n",
      "Validation: 100%|██████████| 6/6 [00:08<00:00,  1.35s/it]\n"
     ]
    },
    {
     "name": "stdout",
     "output_type": "stream",
     "text": [
      "==================== Epoch 29 ====================\n",
      "Train Acc: 0.826474 Train Loss: 0.390290\n",
      "  Val Acc: 0.723757   Val Loss: 0.626282\n",
      "EarlyStopping counter: 15 out of 5\n"
     ]
    },
    {
     "name": "stderr",
     "output_type": "stream",
     "text": [
      "Training: 100%|██████████| 51/51 [01:48<00:00,  2.12s/it]\n",
      "Validation: 100%|██████████| 6/6 [00:08<00:00,  1.45s/it]\n"
     ]
    },
    {
     "name": "stdout",
     "output_type": "stream",
     "text": [
      "==================== Epoch 30 ====================\n",
      "Train Acc: 0.826935 Train Loss: 0.383590\n",
      "  Val Acc: 0.707182   Val Loss: 0.668527\n",
      "EarlyStopping counter: 16 out of 5\n"
     ]
    },
    {
     "name": "stderr",
     "output_type": "stream",
     "text": [
      "Training: 100%|██████████| 51/51 [01:49<00:00,  2.15s/it]\n",
      "Validation: 100%|██████████| 6/6 [00:08<00:00,  1.42s/it]\n"
     ]
    },
    {
     "name": "stdout",
     "output_type": "stream",
     "text": [
      "==================== Epoch 31 ====================\n",
      "Train Acc: 0.833077 Train Loss: 0.384912\n",
      "  Val Acc: 0.669890   Val Loss: 0.654973\n",
      "EarlyStopping counter: 17 out of 5\n"
     ]
    },
    {
     "name": "stderr",
     "output_type": "stream",
     "text": [
      "Training: 100%|██████████| 51/51 [01:46<00:00,  2.08s/it]\n",
      "Validation: 100%|██████████| 6/6 [00:08<00:00,  1.41s/it]\n"
     ]
    },
    {
     "name": "stdout",
     "output_type": "stream",
     "text": [
      "==================== Epoch 32 ====================\n",
      "Train Acc: 0.834152 Train Loss: 0.381148\n",
      "  Val Acc: 0.701657   Val Loss: 0.723504\n",
      "EarlyStopping counter: 18 out of 5\n"
     ]
    },
    {
     "name": "stderr",
     "output_type": "stream",
     "text": [
      "Training: 100%|██████████| 51/51 [01:46<00:00,  2.09s/it]\n",
      "Validation: 100%|██████████| 6/6 [00:08<00:00,  1.39s/it]\n"
     ]
    },
    {
     "name": "stdout",
     "output_type": "stream",
     "text": [
      "==================== Epoch 33 ====================\n",
      "Train Acc: 0.834152 Train Loss: 0.381898\n",
      "  Val Acc: 0.720995   Val Loss: 0.750598\n",
      "EarlyStopping counter: 19 out of 5\n"
     ]
    },
    {
     "name": "stderr",
     "output_type": "stream",
     "text": [
      "Training: 100%|██████████| 51/51 [01:45<00:00,  2.08s/it]\n",
      "Validation: 100%|██████████| 6/6 [00:08<00:00,  1.41s/it]\n"
     ]
    },
    {
     "name": "stdout",
     "output_type": "stream",
     "text": [
      "==================== Epoch 34 ====================\n",
      "Train Acc: 0.845670 Train Loss: 0.357870\n",
      "  Val Acc: 0.689227   Val Loss: 0.720998\n",
      "EarlyStopping counter: 20 out of 5\n"
     ]
    },
    {
     "name": "stderr",
     "output_type": "stream",
     "text": [
      "Training: 100%|██████████| 51/51 [01:46<00:00,  2.10s/it]\n",
      "Validation: 100%|██████████| 6/6 [00:08<00:00,  1.40s/it]\n"
     ]
    },
    {
     "name": "stdout",
     "output_type": "stream",
     "text": [
      "==================== Epoch 35 ====================\n",
      "Train Acc: 0.841830 Train Loss: 0.373408\n",
      "  Val Acc: 0.709945   Val Loss: 0.755785\n",
      "EarlyStopping counter: 21 out of 5\n"
     ]
    },
    {
     "name": "stderr",
     "output_type": "stream",
     "text": [
      "Training: 100%|██████████| 51/51 [01:44<00:00,  2.06s/it]\n",
      "Validation: 100%|██████████| 6/6 [00:08<00:00,  1.37s/it]\n"
     ]
    },
    {
     "name": "stdout",
     "output_type": "stream",
     "text": [
      "==================== Epoch 36 ====================\n",
      "Train Acc: 0.857494 Train Loss: 0.348336\n",
      "  Val Acc: 0.705801   Val Loss: 0.726382\n",
      "EarlyStopping counter: 22 out of 5\n"
     ]
    },
    {
     "name": "stderr",
     "output_type": "stream",
     "text": [
      "Training: 100%|██████████| 51/51 [01:45<00:00,  2.07s/it]\n",
      "Validation: 100%|██████████| 6/6 [00:08<00:00,  1.40s/it]\n"
     ]
    },
    {
     "name": "stdout",
     "output_type": "stream",
     "text": [
      "==================== Epoch 37 ====================\n",
      "Train Acc: 0.853808 Train Loss: 0.339962\n",
      "  Val Acc: 0.701657   Val Loss: 0.663938\n",
      "EarlyStopping counter: 23 out of 5\n"
     ]
    },
    {
     "name": "stderr",
     "output_type": "stream",
     "text": [
      "Training: 100%|██████████| 51/51 [01:45<00:00,  2.07s/it]\n",
      "Validation: 100%|██████████| 6/6 [00:08<00:00,  1.44s/it]\n"
     ]
    },
    {
     "name": "stdout",
     "output_type": "stream",
     "text": [
      "==================== Epoch 38 ====================\n",
      "Train Acc: 0.858415 Train Loss: 0.345467\n",
      "  Val Acc: 0.676796   Val Loss: 0.771088\n",
      "EarlyStopping counter: 24 out of 5\n"
     ]
    },
    {
     "name": "stderr",
     "output_type": "stream",
     "text": [
      "Training: 100%|██████████| 51/51 [01:45<00:00,  2.06s/it]\n",
      "Validation: 100%|██████████| 6/6 [00:08<00:00,  1.40s/it]\n"
     ]
    },
    {
     "name": "stdout",
     "output_type": "stream",
     "text": [
      "==================== Epoch 39 ====================\n",
      "Train Acc: 0.855344 Train Loss: 0.333016\n",
      "  Val Acc: 0.694751   Val Loss: 0.845532\n",
      "EarlyStopping counter: 25 out of 5\n"
     ]
    },
    {
     "name": "stderr",
     "output_type": "stream",
     "text": [
      "Training: 100%|██████████| 51/51 [01:44<00:00,  2.06s/it]\n",
      "Validation: 100%|██████████| 6/6 [00:08<00:00,  1.44s/it]\n"
     ]
    },
    {
     "name": "stdout",
     "output_type": "stream",
     "text": [
      "==================== Epoch 40 ====================\n",
      "Train Acc: 0.857955 Train Loss: 0.333429\n",
      "  Val Acc: 0.727901   Val Loss: 0.676252\n",
      "EarlyStopping counter: 26 out of 5\n"
     ]
    },
    {
     "name": "stderr",
     "output_type": "stream",
     "text": [
      "Training: 100%|██████████| 51/51 [01:44<00:00,  2.06s/it]\n",
      "Validation: 100%|██████████| 6/6 [00:08<00:00,  1.38s/it]\n"
     ]
    },
    {
     "name": "stdout",
     "output_type": "stream",
     "text": [
      "==================== Epoch 41 ====================\n",
      "Train Acc: 0.869472 Train Loss: 0.321006\n",
      "  Val Acc: 0.701657   Val Loss: 0.654769\n",
      "EarlyStopping counter: 27 out of 5\n"
     ]
    },
    {
     "name": "stderr",
     "output_type": "stream",
     "text": [
      "Training: 100%|██████████| 51/51 [01:45<00:00,  2.07s/it]\n",
      "Validation: 100%|██████████| 6/6 [00:08<00:00,  1.42s/it]\n"
     ]
    },
    {
     "name": "stdout",
     "output_type": "stream",
     "text": [
      "==================== Epoch 42 ====================\n",
      "Train Acc: 0.865479 Train Loss: 0.311512\n",
      "  Val Acc: 0.707182   Val Loss: 0.883424\n",
      "EarlyStopping counter: 28 out of 5\n"
     ]
    },
    {
     "name": "stderr",
     "output_type": "stream",
     "text": [
      "Training: 100%|██████████| 51/51 [01:46<00:00,  2.08s/it]\n",
      "Validation: 100%|██████████| 6/6 [00:08<00:00,  1.36s/it]\n"
     ]
    },
    {
     "name": "stdout",
     "output_type": "stream",
     "text": [
      "==================== Epoch 43 ====================\n",
      "Train Acc: 0.867322 Train Loss: 0.320367\n",
      "  Val Acc: 0.703039   Val Loss: 0.818038\n",
      "EarlyStopping counter: 29 out of 5\n"
     ]
    },
    {
     "name": "stderr",
     "output_type": "stream",
     "text": [
      "Training: 100%|██████████| 51/51 [01:46<00:00,  2.09s/it]\n",
      "Validation: 100%|██████████| 6/6 [00:08<00:00,  1.46s/it]\n"
     ]
    },
    {
     "name": "stdout",
     "output_type": "stream",
     "text": [
      "==================== Epoch 44 ====================\n",
      "Train Acc: 0.865479 Train Loss: 0.312458\n",
      "  Val Acc: 0.690608   Val Loss: 0.728063\n",
      "EarlyStopping counter: 30 out of 5\n"
     ]
    },
    {
     "name": "stderr",
     "output_type": "stream",
     "text": [
      "Training: 100%|██████████| 51/51 [01:46<00:00,  2.08s/it]\n",
      "Validation: 100%|██████████| 6/6 [00:08<00:00,  1.41s/it]\n"
     ]
    },
    {
     "name": "stdout",
     "output_type": "stream",
     "text": [
      "==================== Epoch 45 ====================\n",
      "Train Acc: 0.876382 Train Loss: 0.302492\n",
      "  Val Acc: 0.694751   Val Loss: 0.739007\n",
      "EarlyStopping counter: 31 out of 5\n"
     ]
    },
    {
     "name": "stderr",
     "output_type": "stream",
     "text": [
      "Training: 100%|██████████| 51/51 [01:45<00:00,  2.07s/it]\n",
      "Validation: 100%|██████████| 6/6 [00:08<00:00,  1.39s/it]\n"
     ]
    },
    {
     "name": "stdout",
     "output_type": "stream",
     "text": [
      "==================== Epoch 46 ====================\n",
      "Train Acc: 0.883446 Train Loss: 0.287874\n",
      "  Val Acc: 0.718232   Val Loss: 0.731049\n",
      "EarlyStopping counter: 32 out of 5\n"
     ]
    },
    {
     "name": "stderr",
     "output_type": "stream",
     "text": [
      "Training: 100%|██████████| 51/51 [01:45<00:00,  2.07s/it]\n",
      "Validation: 100%|██████████| 6/6 [00:08<00:00,  1.41s/it]\n"
     ]
    },
    {
     "name": "stdout",
     "output_type": "stream",
     "text": [
      "==================== Epoch 47 ====================\n",
      "Train Acc: 0.882064 Train Loss: 0.282321\n",
      "  Val Acc: 0.691989   Val Loss: 0.758742\n",
      "EarlyStopping counter: 33 out of 5\n"
     ]
    },
    {
     "name": "stderr",
     "output_type": "stream",
     "text": [
      "Training: 100%|██████████| 51/51 [01:45<00:00,  2.07s/it]\n",
      "Validation: 100%|██████████| 6/6 [00:08<00:00,  1.36s/it]\n"
     ]
    },
    {
     "name": "stdout",
     "output_type": "stream",
     "text": [
      "==================== Epoch 48 ====================\n",
      "Train Acc: 0.882217 Train Loss: 0.292760\n",
      "  Val Acc: 0.715470   Val Loss: 0.821842\n",
      "EarlyStopping counter: 34 out of 5\n"
     ]
    },
    {
     "name": "stderr",
     "output_type": "stream",
     "text": [
      "Training: 100%|██████████| 51/51 [01:47<00:00,  2.11s/it]\n",
      "Validation: 100%|██████████| 6/6 [00:08<00:00,  1.41s/it]\n"
     ]
    },
    {
     "name": "stdout",
     "output_type": "stream",
     "text": [
      "==================== Epoch 49 ====================\n",
      "Train Acc: 0.887592 Train Loss: 0.284173\n",
      "  Val Acc: 0.712707   Val Loss: 0.893222\n",
      "EarlyStopping counter: 35 out of 5\n"
     ]
    },
    {
     "name": "stderr",
     "output_type": "stream",
     "text": [
      "Training: 100%|██████████| 51/51 [01:44<00:00,  2.06s/it]\n",
      "Validation: 100%|██████████| 6/6 [00:08<00:00,  1.44s/it]"
     ]
    },
    {
     "name": "stdout",
     "output_type": "stream",
     "text": [
      "==================== Epoch 50 ====================\n",
      "Train Acc: 0.886671 Train Loss: 0.270493\n",
      "  Val Acc: 0.691989   Val Loss: 0.890965\n",
      "EarlyStopping counter: 36 out of 5\n"
     ]
    },
    {
     "name": "stderr",
     "output_type": "stream",
     "text": [
      "\n"
     ]
    }
   ],
   "source": [
    "max_epochs = 50\n",
    "log_interval = 1 # print acc and loss in per log_interval time\n",
    "patience = 5\n",
    "early_stopping = EarlyStopping(patience=patience, verbose=True, path='checkpoint_rural.pt')\n",
    "train_acc_list = []\n",
    "train_loss_list = []\n",
    "val_acc_list = []\n",
    "val_loss_list = []\n",
    "\n",
    "for epoch in range(1, max_epochs + 1):\n",
    "    train_acc, train_loss = train(train_loader, model, criterion, optimizer)\n",
    "    val_acc, val_loss = val(val_loader, model, criterion)\n",
    "\n",
    "    train_acc_list.append(train_acc)\n",
    "    train_loss_list.append(train_loss)\n",
    "    val_acc_list.append(val_acc)\n",
    "    val_loss_list.append(val_loss)\n",
    "    if epoch % log_interval == 0:\n",
    "        print('=' * 20, 'Epoch', epoch, '=' * 20)\n",
    "        print('Train Acc: {:.6f} Train Loss: {:.6f}'.format(train_acc, train_loss))\n",
    "        print('  Val Acc: {:.6f}   Val Loss: {:.6f}'.format(val_acc, val_loss))\n",
    "    \n",
    "    early_stopping(-val_acc, model)\n",
    "#     if early_stopping.early_stop:\n",
    "#         print(\"Early stopping\")\n",
    "#         break"
   ]
  }
 ],
 "metadata": {
  "kernelspec": {
   "display_name": "Python 3",
   "language": "python",
   "name": "python3"
  },
  "language_info": {
   "codemirror_mode": {
    "name": "ipython",
    "version": 3
   },
   "file_extension": ".py",
   "mimetype": "text/x-python",
   "name": "python",
   "nbconvert_exporter": "python",
   "pygments_lexer": "ipython3",
   "version": "3.7.12"
  },
  "papermill": {
   "default_parameters": {},
   "duration": 5850.838033,
   "end_time": "2022-06-08T03:31:12.650243",
   "environment_variables": {},
   "exception": null,
   "input_path": "__notebook__.ipynb",
   "output_path": "__notebook__.ipynb",
   "parameters": {},
   "start_time": "2022-06-08T01:53:41.812210",
   "version": "2.3.4"
  },
  "widgets": {
   "application/vnd.jupyter.widget-state+json": {
    "state": {
     "347a5935b599451f94fe21d62889fd22": {
      "model_module": "@jupyter-widgets/base",
      "model_module_version": "1.2.0",
      "model_name": "LayoutModel",
      "state": {
       "_model_module": "@jupyter-widgets/base",
       "_model_module_version": "1.2.0",
       "_model_name": "LayoutModel",
       "_view_count": null,
       "_view_module": "@jupyter-widgets/base",
       "_view_module_version": "1.2.0",
       "_view_name": "LayoutView",
       "align_content": null,
       "align_items": null,
       "align_self": null,
       "border": null,
       "bottom": null,
       "display": null,
       "flex": null,
       "flex_flow": null,
       "grid_area": null,
       "grid_auto_columns": null,
       "grid_auto_flow": null,
       "grid_auto_rows": null,
       "grid_column": null,
       "grid_gap": null,
       "grid_row": null,
       "grid_template_areas": null,
       "grid_template_columns": null,
       "grid_template_rows": null,
       "height": null,
       "justify_content": null,
       "justify_items": null,
       "left": null,
       "margin": null,
       "max_height": null,
       "max_width": null,
       "min_height": null,
       "min_width": null,
       "object_fit": null,
       "object_position": null,
       "order": null,
       "overflow": null,
       "overflow_x": null,
       "overflow_y": null,
       "padding": null,
       "right": null,
       "top": null,
       "visibility": null,
       "width": null
      }
     },
     "49df815096c2403c9b910df905ad86e0": {
      "model_module": "@jupyter-widgets/controls",
      "model_module_version": "1.5.0",
      "model_name": "ProgressStyleModel",
      "state": {
       "_model_module": "@jupyter-widgets/controls",
       "_model_module_version": "1.5.0",
       "_model_name": "ProgressStyleModel",
       "_view_count": null,
       "_view_module": "@jupyter-widgets/base",
       "_view_module_version": "1.2.0",
       "_view_name": "StyleView",
       "bar_color": null,
       "description_width": ""
      }
     },
     "5bf8a8b02b334df3a5b2dd74abdf7cf2": {
      "model_module": "@jupyter-widgets/controls",
      "model_module_version": "1.5.0",
      "model_name": "FloatProgressModel",
      "state": {
       "_dom_classes": [],
       "_model_module": "@jupyter-widgets/controls",
       "_model_module_version": "1.5.0",
       "_model_name": "FloatProgressModel",
       "_view_count": null,
       "_view_module": "@jupyter-widgets/controls",
       "_view_module_version": "1.5.0",
       "_view_name": "ProgressView",
       "bar_style": "success",
       "description": "",
       "description_tooltip": null,
       "layout": "IPY_MODEL_b9f00b1baeb14664a32b76b69441148a",
       "max": 87319819.0,
       "min": 0.0,
       "orientation": "horizontal",
       "style": "IPY_MODEL_49df815096c2403c9b910df905ad86e0",
       "value": 87319819.0
      }
     },
     "6585a1e83fad4c32a083a1080e12a00a": {
      "model_module": "@jupyter-widgets/base",
      "model_module_version": "1.2.0",
      "model_name": "LayoutModel",
      "state": {
       "_model_module": "@jupyter-widgets/base",
       "_model_module_version": "1.2.0",
       "_model_name": "LayoutModel",
       "_view_count": null,
       "_view_module": "@jupyter-widgets/base",
       "_view_module_version": "1.2.0",
       "_view_name": "LayoutView",
       "align_content": null,
       "align_items": null,
       "align_self": null,
       "border": null,
       "bottom": null,
       "display": null,
       "flex": null,
       "flex_flow": null,
       "grid_area": null,
       "grid_auto_columns": null,
       "grid_auto_flow": null,
       "grid_auto_rows": null,
       "grid_column": null,
       "grid_gap": null,
       "grid_row": null,
       "grid_template_areas": null,
       "grid_template_columns": null,
       "grid_template_rows": null,
       "height": null,
       "justify_content": null,
       "justify_items": null,
       "left": null,
       "margin": null,
       "max_height": null,
       "max_width": null,
       "min_height": null,
       "min_width": null,
       "object_fit": null,
       "object_position": null,
       "order": null,
       "overflow": null,
       "overflow_x": null,
       "overflow_y": null,
       "padding": null,
       "right": null,
       "top": null,
       "visibility": null,
       "width": null
      }
     },
     "a1222487faa647c8aed3d6dd6d22db3e": {
      "model_module": "@jupyter-widgets/base",
      "model_module_version": "1.2.0",
      "model_name": "LayoutModel",
      "state": {
       "_model_module": "@jupyter-widgets/base",
       "_model_module_version": "1.2.0",
       "_model_name": "LayoutModel",
       "_view_count": null,
       "_view_module": "@jupyter-widgets/base",
       "_view_module_version": "1.2.0",
       "_view_name": "LayoutView",
       "align_content": null,
       "align_items": null,
       "align_self": null,
       "border": null,
       "bottom": null,
       "display": null,
       "flex": null,
       "flex_flow": null,
       "grid_area": null,
       "grid_auto_columns": null,
       "grid_auto_flow": null,
       "grid_auto_rows": null,
       "grid_column": null,
       "grid_gap": null,
       "grid_row": null,
       "grid_template_areas": null,
       "grid_template_columns": null,
       "grid_template_rows": null,
       "height": null,
       "justify_content": null,
       "justify_items": null,
       "left": null,
       "margin": null,
       "max_height": null,
       "max_width": null,
       "min_height": null,
       "min_width": null,
       "object_fit": null,
       "object_position": null,
       "order": null,
       "overflow": null,
       "overflow_x": null,
       "overflow_y": null,
       "padding": null,
       "right": null,
       "top": null,
       "visibility": null,
       "width": null
      }
     },
     "a1d42e731d8f40659daa63fe5ce0ac6b": {
      "model_module": "@jupyter-widgets/controls",
      "model_module_version": "1.5.0",
      "model_name": "DescriptionStyleModel",
      "state": {
       "_model_module": "@jupyter-widgets/controls",
       "_model_module_version": "1.5.0",
       "_model_name": "DescriptionStyleModel",
       "_view_count": null,
       "_view_module": "@jupyter-widgets/base",
       "_view_module_version": "1.2.0",
       "_view_name": "StyleView",
       "description_width": ""
      }
     },
     "b9f00b1baeb14664a32b76b69441148a": {
      "model_module": "@jupyter-widgets/base",
      "model_module_version": "1.2.0",
      "model_name": "LayoutModel",
      "state": {
       "_model_module": "@jupyter-widgets/base",
       "_model_module_version": "1.2.0",
       "_model_name": "LayoutModel",
       "_view_count": null,
       "_view_module": "@jupyter-widgets/base",
       "_view_module_version": "1.2.0",
       "_view_name": "LayoutView",
       "align_content": null,
       "align_items": null,
       "align_self": null,
       "border": null,
       "bottom": null,
       "display": null,
       "flex": null,
       "flex_flow": null,
       "grid_area": null,
       "grid_auto_columns": null,
       "grid_auto_flow": null,
       "grid_auto_rows": null,
       "grid_column": null,
       "grid_gap": null,
       "grid_row": null,
       "grid_template_areas": null,
       "grid_template_columns": null,
       "grid_template_rows": null,
       "height": null,
       "justify_content": null,
       "justify_items": null,
       "left": null,
       "margin": null,
       "max_height": null,
       "max_width": null,
       "min_height": null,
       "min_width": null,
       "object_fit": null,
       "object_position": null,
       "order": null,
       "overflow": null,
       "overflow_x": null,
       "overflow_y": null,
       "padding": null,
       "right": null,
       "top": null,
       "visibility": null,
       "width": null
      }
     },
     "c9c57ce11b594477b6217e5a3dc4e53e": {
      "model_module": "@jupyter-widgets/controls",
      "model_module_version": "1.5.0",
      "model_name": "HTMLModel",
      "state": {
       "_dom_classes": [],
       "_model_module": "@jupyter-widgets/controls",
       "_model_module_version": "1.5.0",
       "_model_name": "HTMLModel",
       "_view_count": null,
       "_view_module": "@jupyter-widgets/controls",
       "_view_module_version": "1.5.0",
       "_view_name": "HTMLView",
       "description": "",
       "description_tooltip": null,
       "layout": "IPY_MODEL_347a5935b599451f94fe21d62889fd22",
       "placeholder": "​",
       "style": "IPY_MODEL_a1d42e731d8f40659daa63fe5ce0ac6b",
       "value": "100%"
      }
     },
     "d0b5f04fa11748b9bcd5ec79075d6a2e": {
      "model_module": "@jupyter-widgets/controls",
      "model_module_version": "1.5.0",
      "model_name": "HBoxModel",
      "state": {
       "_dom_classes": [],
       "_model_module": "@jupyter-widgets/controls",
       "_model_module_version": "1.5.0",
       "_model_name": "HBoxModel",
       "_view_count": null,
       "_view_module": "@jupyter-widgets/controls",
       "_view_module_version": "1.5.0",
       "_view_name": "HBoxView",
       "box_style": "",
       "children": [
        "IPY_MODEL_c9c57ce11b594477b6217e5a3dc4e53e",
        "IPY_MODEL_5bf8a8b02b334df3a5b2dd74abdf7cf2",
        "IPY_MODEL_e4080497a3784ad5aa195d83807c5fbd"
       ],
       "layout": "IPY_MODEL_a1222487faa647c8aed3d6dd6d22db3e"
      }
     },
     "d6d6b535b0e44977bf192c1b097edfb8": {
      "model_module": "@jupyter-widgets/controls",
      "model_module_version": "1.5.0",
      "model_name": "DescriptionStyleModel",
      "state": {
       "_model_module": "@jupyter-widgets/controls",
       "_model_module_version": "1.5.0",
       "_model_name": "DescriptionStyleModel",
       "_view_count": null,
       "_view_module": "@jupyter-widgets/base",
       "_view_module_version": "1.2.0",
       "_view_name": "StyleView",
       "description_width": ""
      }
     },
     "e4080497a3784ad5aa195d83807c5fbd": {
      "model_module": "@jupyter-widgets/controls",
      "model_module_version": "1.5.0",
      "model_name": "HTMLModel",
      "state": {
       "_dom_classes": [],
       "_model_module": "@jupyter-widgets/controls",
       "_model_module_version": "1.5.0",
       "_model_name": "HTMLModel",
       "_view_count": null,
       "_view_module": "@jupyter-widgets/controls",
       "_view_module_version": "1.5.0",
       "_view_name": "HTMLView",
       "description": "",
       "description_tooltip": null,
       "layout": "IPY_MODEL_6585a1e83fad4c32a083a1080e12a00a",
       "placeholder": "​",
       "style": "IPY_MODEL_d6d6b535b0e44977bf192c1b097edfb8",
       "value": " 83.3M/83.3M [00:07&lt;00:00, 24.3MB/s]"
      }
     }
    },
    "version_major": 2,
    "version_minor": 0
   }
  }
 },
 "nbformat": 4,
 "nbformat_minor": 5
}
